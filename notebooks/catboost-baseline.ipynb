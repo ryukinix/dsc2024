{
 "cells": [
  {
   "cell_type": "code",
   "execution_count": 1,
   "id": "f78846aa-6ec9-46dc-a923-67d167939194",
   "metadata": {},
   "outputs": [],
   "source": [
    "import numpy as np\n",
    "import pandas as pd\n",
    "\n",
    "from dsc2024 import datasets\n",
    "from dsc2024 import handling"
   ]
  },
  {
   "cell_type": "markdown",
   "id": "c4548a4d-ee45-4e6e-956a-756e30b6b2bd",
   "metadata": {},
   "source": [
    "# Data Handling"
   ]
  },
  {
   "cell_type": "code",
   "execution_count": 2,
   "id": "f2f5dccc-794d-4fdd-ac45-c1384c06094d",
   "metadata": {},
   "outputs": [],
   "source": [
    "# Parameters\n",
    "sampling = None # None to use everything\n",
    "real_test = False"
   ]
  },
  {
   "cell_type": "code",
   "execution_count": 3,
   "id": "121483fd-8b73-4c55-8da2-7db6a8f5a589",
   "metadata": {},
   "outputs": [
    {
     "name": "stdout",
     "output_type": "stream",
     "text": [
      "dataset row:149631 Line 1: expected one of:\n",
      "\n",
      "    - [\\d] from METAR::datetime\n",
      "    - \"Z\" from METAR::datetime\n",
      "\n",
      "     1 | METAR COR SBSV 051300 10012KT 9999 FEW021 SCT050 28/24 Q1014=\n",
      "                              ^\n",
      "dataset row:149639 Line 1: expected one of:\n",
      "\n",
      "    - [\\d] from METAR::datetime\n",
      "    - \"Z\" from METAR::datetime\n",
      "\n",
      "     1 | METAR COR SBSV 051300 10012KT 9999 FEW021 SCT050 28/24 Q1014=\n",
      "                              ^\n",
      "dataset row:149657 Line 1: expected one of:\n",
      "\n",
      "    - [\\d] from METAR::datetime\n",
      "    - \"Z\" from METAR::datetime\n",
      "\n",
      "     1 | METAR COR SBSV 051400 09013KT 9999 VCSH FEW021 SCT050 29/24 Q1013=\n",
      "                              ^\n",
      "dataset row:149673 Line 1: expected one of:\n",
      "\n",
      "    - [\\d] from METAR::datetime\n",
      "    - \"Z\" from METAR::datetime\n",
      "\n",
      "     1 | METAR COR SBSV 051400 09013KT 9999 VCSH FEW021 SCT050 29/24 Q1013=\n",
      "                              ^\n",
      "dataset row:149678 Line 1: expected one of:\n",
      "\n",
      "    - [\\d] from METAR::datetime\n",
      "    - \"Z\" from METAR::datetime\n",
      "\n",
      "     1 | METAR COR SBSV 051400 09013KT 9999 VCSH FEW021 SCT050 29/24 Q1013=\n",
      "                              ^\n",
      "dataset row:149682 Line 1: expected one of:\n",
      "\n",
      "    - [\\d] from METAR::datetime\n",
      "    - \"Z\" from METAR::datetime\n",
      "\n",
      "     1 | METAR COR SBSV 051400 09013KT 9999 VCSH FEW021 SCT050 29/24 Q1013=\n",
      "                              ^\n",
      "dataset row:149683 Line 1: expected one of:\n",
      "\n",
      "    - [\\d] from METAR::datetime\n",
      "    - \"Z\" from METAR::datetime\n",
      "\n",
      "     1 | METAR COR SBSV 051400 09013KT 9999 VCSH FEW021 SCT050 29/24 Q1013=\n",
      "                              ^\n",
      "dataset row:149686 Line 1: expected one of:\n",
      "\n",
      "    - [\\d] from METAR::datetime\n",
      "    - \"Z\" from METAR::datetime\n",
      "\n",
      "     1 | METAR COR SBSV 051400 09013KT 9999 VCSH FEW021 SCT050 29/24 Q1013=\n",
      "                              ^\n",
      "dataset row:149689 Line 1: expected one of:\n",
      "\n",
      "    - [\\d] from METAR::datetime\n",
      "    - \"Z\" from METAR::datetime\n",
      "\n",
      "     1 | METAR COR SBSV 051400 09013KT 9999 VCSH FEW021 SCT050 29/24 Q1013=\n",
      "                              ^\n",
      "dataset row:149694 Line 1: expected one of:\n",
      "\n",
      "    - [\\d] from METAR::datetime\n",
      "    - \"Z\" from METAR::datetime\n",
      "\n",
      "     1 | METAR COR SBSV 051400 09013KT 9999 VCSH FEW021 SCT050 29/24 Q1013=\n",
      "                              ^\n",
      "dataset row:164460 Line 1: expected one of:\n",
      "\n",
      "    - [\\d] from METAR::datetime\n",
      "    - \"Z\" from METAR::datetime\n",
      "\n",
      "     1 | METAR SBFL 221300 17006KT 9999 BKN020 24/16 Q1017=\n",
      "                          ^\n",
      "dataset row:164474 Line 1: expected one of:\n",
      "\n",
      "    - [\\d] from METAR::datetime\n",
      "    - \"Z\" from METAR::datetime\n",
      "\n",
      "     1 | METAR SBFL 221300 17006KT 9999 BKN020 24/16 Q1017=\n",
      "                          ^\n",
      "CPU times: user 3min 45s, sys: 1.11 s, total: 3min 46s\n",
      "Wall time: 3min 46s\n"
     ]
    }
   ],
   "source": [
    "%%time\n",
    "\n",
    "if real_test:\n",
    "    sampling = None\n",
    "df = datasets.get_train_dataset(sampling=sampling)"
   ]
  },
  {
   "cell_type": "code",
   "execution_count": 4,
   "id": "40021f50-6e28-4413-ad7b-970534032204",
   "metadata": {},
   "outputs": [
    {
     "name": "stdout",
     "output_type": "stream",
     "text": [
      "<class 'pandas.core.frame.DataFrame'>\n",
      "Index: 211679 entries, 504a62621cd231d6ab67e674ce538cd3 to c962a2267ae4fe0afa4c3542ebdbd403\n",
      "Data columns (total 63 columns):\n",
      " #   Column                         Non-Null Count   Dtype         \n",
      "---  ------                         --------------   -----         \n",
      " 0   hora_ref                       211679 non-null  datetime64[ns]\n",
      " 1   origem                         211679 non-null  object        \n",
      " 2   destino                        211679 non-null  object        \n",
      " 3   url_img_satelite               208741 non-null  object        \n",
      " 4   prev_troca_cabeceira           211679 non-null  int64         \n",
      " 5   troca_cabeceira_hora_anterior  211679 non-null  int64         \n",
      " 6   espera                         211679 non-null  float64       \n",
      " 7   metar_station_id               210043 non-null  object        \n",
      " 8   metar_latitude                 210043 non-null  float64       \n",
      " 9   metar_longitude                210043 non-null  float64       \n",
      " 10  metar_elevation                210043 non-null  float64       \n",
      " 11  metar_date_time                209893 non-null  datetime64[ns]\n",
      " 12  metar_wind_direction           198901 non-null  float64       \n",
      " 13  metar_wind_speed               210039 non-null  float64       \n",
      " 14  metar_wind_gust                1969 non-null    float64       \n",
      " 15  metar_visibility               210025 non-null  float64       \n",
      " 16  metar_current_wx1              29344 non-null   object        \n",
      " 17  metar_current_wx2              6265 non-null    object        \n",
      " 18  metar_current_wx3              27 non-null      object        \n",
      " 19  metar_skyc1                    150867 non-null  object        \n",
      " 20  metar_skylev1                  146600 non-null  float64       \n",
      " 21  metar_skyc2                    86209 non-null   object        \n",
      " 22  metar_skylev2                  86209 non-null   float64       \n",
      " 23  metar_skyc3                    26732 non-null   object        \n",
      " 24  metar_skylev3                  26732 non-null   float64       \n",
      " 25  metar_skyc4                    1762 non-null    object        \n",
      " 26  metar_skylev4                  1762 non-null    float64       \n",
      " 27  metar_cloudcover               210043 non-null  float64       \n",
      " 28  metar_temperature              209736 non-null  float64       \n",
      " 29  metar_dewpoint                 209413 non-null  float64       \n",
      " 30  metar_altimeter                209760 non-null  float64       \n",
      " 31  metar_current_wx1_symbol       210043 non-null  float64       \n",
      " 32  metar_current_wx2_symbol       210043 non-null  float64       \n",
      " 33  metar_current_wx3_symbol       210043 non-null  float64       \n",
      " 34  metar_remarks                  210043 non-null  object        \n",
      " 35  metaf_station_id               89705 non-null   object        \n",
      " 36  metaf_latitude                 89705 non-null   float64       \n",
      " 37  metaf_longitude                89705 non-null   float64       \n",
      " 38  metaf_elevation                89705 non-null   float64       \n",
      " 39  metaf_date_time                89705 non-null   datetime64[ns]\n",
      " 40  metaf_wind_direction           89705 non-null   float64       \n",
      " 41  metaf_wind_speed               89705 non-null   float64       \n",
      " 42  metaf_wind_gust                0 non-null       float64       \n",
      " 43  metaf_visibility               89705 non-null   float64       \n",
      " 44  metaf_current_wx1              24626 non-null   object        \n",
      " 45  metaf_current_wx2              51 non-null      object        \n",
      " 46  metaf_current_wx3              0 non-null       float64       \n",
      " 47  metaf_skyc1                    51221 non-null   object        \n",
      " 48  metaf_skylev1                  51221 non-null   float64       \n",
      " 49  metaf_skyc2                    1910 non-null    object        \n",
      " 50  metaf_skylev2                  1910 non-null    float64       \n",
      " 51  metaf_skyc3                    0 non-null       float64       \n",
      " 52  metaf_skylev3                  0 non-null       float64       \n",
      " 53  metaf_skyc4                    0 non-null       float64       \n",
      " 54  metaf_skylev4                  0 non-null       float64       \n",
      " 55  metaf_cloudcover               89705 non-null   float64       \n",
      " 56  metaf_temperature              88875 non-null   float64       \n",
      " 57  metaf_dewpoint                 88875 non-null   float64       \n",
      " 58  metaf_altimeter                88875 non-null   float64       \n",
      " 59  metaf_current_wx1_symbol       89705 non-null   float64       \n",
      " 60  metaf_current_wx2_symbol       89705 non-null   float64       \n",
      " 61  metaf_current_wx3_symbol       89705 non-null   float64       \n",
      " 62  metaf_remarks                  89705 non-null   object        \n",
      "dtypes: datetime64[ns](3), float64(40), int64(2), object(18)\n",
      "memory usage: 103.4+ MB\n"
     ]
    }
   ],
   "source": [
    "df.info()"
   ]
  },
  {
   "cell_type": "code",
   "execution_count": 5,
   "id": "cf7bb9e5-949f-43f6-ac3d-f601df113352",
   "metadata": {},
   "outputs": [
    {
     "name": "stdout",
     "output_type": "stream",
     "text": [
      "<class 'pandas.core.frame.DataFrame'>\n",
      "Index: 211679 entries, 504a62621cd231d6ab67e674ce538cd3 to c962a2267ae4fe0afa4c3542ebdbd403\n",
      "Data columns (total 57 columns):\n",
      " #   Column                         Non-Null Count   Dtype         \n",
      "---  ------                         --------------   -----         \n",
      " 0   hora_ref                       211679 non-null  datetime64[ns]\n",
      " 1   origem                         211679 non-null  object        \n",
      " 2   destino                        211679 non-null  object        \n",
      " 3   url_img_satelite               208741 non-null  object        \n",
      " 4   prev_troca_cabeceira           211679 non-null  int64         \n",
      " 5   troca_cabeceira_hora_anterior  211679 non-null  int64         \n",
      " 6   espera                         211679 non-null  float64       \n",
      " 7   metar_station_id               210043 non-null  object        \n",
      " 8   metar_latitude                 210043 non-null  float64       \n",
      " 9   metar_longitude                210043 non-null  float64       \n",
      " 10  metar_elevation                210043 non-null  float64       \n",
      " 11  metar_date_time                209893 non-null  datetime64[ns]\n",
      " 12  metar_wind_direction           198901 non-null  float64       \n",
      " 13  metar_wind_speed               210039 non-null  float64       \n",
      " 14  metar_wind_gust                1969 non-null    float64       \n",
      " 15  metar_visibility               210025 non-null  float64       \n",
      " 16  metar_current_wx1              29344 non-null   object        \n",
      " 17  metar_current_wx2              6265 non-null    object        \n",
      " 18  metar_current_wx3              27 non-null      object        \n",
      " 19  metar_skyc1                    150867 non-null  object        \n",
      " 20  metar_skylev1                  146600 non-null  float64       \n",
      " 21  metar_skyc2                    86209 non-null   object        \n",
      " 22  metar_skylev2                  86209 non-null   float64       \n",
      " 23  metar_skyc3                    26732 non-null   object        \n",
      " 24  metar_skylev3                  26732 non-null   float64       \n",
      " 25  metar_skyc4                    1762 non-null    object        \n",
      " 26  metar_skylev4                  1762 non-null    float64       \n",
      " 27  metar_cloudcover               210043 non-null  float64       \n",
      " 28  metar_temperature              209736 non-null  float64       \n",
      " 29  metar_dewpoint                 209413 non-null  float64       \n",
      " 30  metar_altimeter                209760 non-null  float64       \n",
      " 31  metar_current_wx1_symbol       210043 non-null  float64       \n",
      " 32  metar_current_wx2_symbol       210043 non-null  float64       \n",
      " 33  metar_current_wx3_symbol       210043 non-null  float64       \n",
      " 34  metar_remarks                  210043 non-null  object        \n",
      " 35  metaf_station_id               89705 non-null   object        \n",
      " 36  metaf_latitude                 89705 non-null   float64       \n",
      " 37  metaf_longitude                89705 non-null   float64       \n",
      " 38  metaf_elevation                89705 non-null   float64       \n",
      " 39  metaf_date_time                89705 non-null   datetime64[ns]\n",
      " 40  metaf_wind_direction           89705 non-null   float64       \n",
      " 41  metaf_wind_speed               89705 non-null   float64       \n",
      " 42  metaf_visibility               89705 non-null   float64       \n",
      " 43  metaf_current_wx1              24626 non-null   object        \n",
      " 44  metaf_current_wx2              51 non-null      object        \n",
      " 45  metaf_skyc1                    51221 non-null   object        \n",
      " 46  metaf_skylev1                  51221 non-null   float64       \n",
      " 47  metaf_skyc2                    1910 non-null    object        \n",
      " 48  metaf_skylev2                  1910 non-null    float64       \n",
      " 49  metaf_cloudcover               89705 non-null   float64       \n",
      " 50  metaf_temperature              88875 non-null   float64       \n",
      " 51  metaf_dewpoint                 88875 non-null   float64       \n",
      " 52  metaf_altimeter                88875 non-null   float64       \n",
      " 53  metaf_current_wx1_symbol       89705 non-null   float64       \n",
      " 54  metaf_current_wx2_symbol       89705 non-null   float64       \n",
      " 55  metaf_current_wx3_symbol       89705 non-null   float64       \n",
      " 56  metaf_remarks                  89705 non-null   object        \n",
      "dtypes: datetime64[ns](3), float64(34), int64(2), object(18)\n",
      "memory usage: 93.7+ MB\n"
     ]
    }
   ],
   "source": [
    "# drop columns with only has null values\n",
    "df.dropna(axis=1, how=\"all\", inplace=True)\n",
    "df.info()"
   ]
  },
  {
   "cell_type": "code",
   "execution_count": 6,
   "id": "dd5b9867-7883-4841-8aea-9ee8d909b71f",
   "metadata": {},
   "outputs": [
    {
     "name": "stdout",
     "output_type": "stream",
     "text": [
      "<class 'pandas.core.frame.DataFrame'>\n",
      "Index: 211679 entries, 504a62621cd231d6ab67e674ce538cd3 to c962a2267ae4fe0afa4c3542ebdbd403\n",
      "Data columns (total 53 columns):\n",
      " #   Column                         Non-Null Count   Dtype  \n",
      "---  ------                         --------------   -----  \n",
      " 0   origem                         211679 non-null  object \n",
      " 1   destino                        211679 non-null  object \n",
      " 2   prev_troca_cabeceira           211679 non-null  int64  \n",
      " 3   troca_cabeceira_hora_anterior  211679 non-null  int64  \n",
      " 4   espera                         211679 non-null  float64\n",
      " 5   metar_station_id               210043 non-null  object \n",
      " 6   metar_latitude                 210043 non-null  float64\n",
      " 7   metar_longitude                210043 non-null  float64\n",
      " 8   metar_elevation                210043 non-null  float64\n",
      " 9   metar_wind_direction           198901 non-null  float64\n",
      " 10  metar_wind_speed               210039 non-null  float64\n",
      " 11  metar_wind_gust                1969 non-null    float64\n",
      " 12  metar_visibility               210025 non-null  float64\n",
      " 13  metar_current_wx1              29344 non-null   object \n",
      " 14  metar_current_wx2              6265 non-null    object \n",
      " 15  metar_current_wx3              27 non-null      object \n",
      " 16  metar_skyc1                    150867 non-null  object \n",
      " 17  metar_skylev1                  146600 non-null  float64\n",
      " 18  metar_skyc2                    86209 non-null   object \n",
      " 19  metar_skylev2                  86209 non-null   float64\n",
      " 20  metar_skyc3                    26732 non-null   object \n",
      " 21  metar_skylev3                  26732 non-null   float64\n",
      " 22  metar_skyc4                    1762 non-null    object \n",
      " 23  metar_skylev4                  1762 non-null    float64\n",
      " 24  metar_cloudcover               210043 non-null  float64\n",
      " 25  metar_temperature              209736 non-null  float64\n",
      " 26  metar_dewpoint                 209413 non-null  float64\n",
      " 27  metar_altimeter                209760 non-null  float64\n",
      " 28  metar_current_wx1_symbol       210043 non-null  float64\n",
      " 29  metar_current_wx2_symbol       210043 non-null  float64\n",
      " 30  metar_current_wx3_symbol       210043 non-null  float64\n",
      " 31  metar_remarks                  210043 non-null  object \n",
      " 32  metaf_station_id               89705 non-null   object \n",
      " 33  metaf_latitude                 89705 non-null   float64\n",
      " 34  metaf_longitude                89705 non-null   float64\n",
      " 35  metaf_elevation                89705 non-null   float64\n",
      " 36  metaf_wind_direction           89705 non-null   float64\n",
      " 37  metaf_wind_speed               89705 non-null   float64\n",
      " 38  metaf_visibility               89705 non-null   float64\n",
      " 39  metaf_current_wx1              24626 non-null   object \n",
      " 40  metaf_current_wx2              51 non-null      object \n",
      " 41  metaf_skyc1                    51221 non-null   object \n",
      " 42  metaf_skylev1                  51221 non-null   float64\n",
      " 43  metaf_skyc2                    1910 non-null    object \n",
      " 44  metaf_skylev2                  1910 non-null    float64\n",
      " 45  metaf_cloudcover               89705 non-null   float64\n",
      " 46  metaf_temperature              88875 non-null   float64\n",
      " 47  metaf_dewpoint                 88875 non-null   float64\n",
      " 48  metaf_altimeter                88875 non-null   float64\n",
      " 49  metaf_current_wx1_symbol       89705 non-null   float64\n",
      " 50  metaf_current_wx2_symbol       89705 non-null   float64\n",
      " 51  metaf_current_wx3_symbol       89705 non-null   float64\n",
      " 52  metaf_remarks                  89705 non-null   object \n",
      "dtypes: float64(34), int64(2), object(17)\n",
      "memory usage: 87.2+ MB\n"
     ]
    }
   ],
   "source": [
    "# drop non-feature datetime / image columns (to be out of baseline for feature engineering)\n",
    "datetime_columns = [\"hora_ref\", \"metaf_date_time\", \"metar_date_time\", \"url_img_satelite\"]\n",
    "df.drop(columns=datetime_columns, inplace=True)\n",
    "df.info()"
   ]
  },
  {
   "cell_type": "code",
   "execution_count": 7,
   "id": "9e3ac591-d2e7-4535-a8c6-3a9ecac23834",
   "metadata": {},
   "outputs": [],
   "source": [
    "X = df.drop(\"espera\", axis=1)\n",
    "y = df.espera.astype(int)"
   ]
  },
  {
   "cell_type": "code",
   "execution_count": 19,
   "id": "5396774a-f44f-409a-a427-8300919ac71a",
   "metadata": {},
   "outputs": [
    {
     "data": {
      "text/plain": [
       "espera\n",
       "0    0.982587\n",
       "1    0.017413\n",
       "Name: count, dtype: float64"
      ]
     },
     "execution_count": 19,
     "metadata": {},
     "output_type": "execute_result"
    }
   ],
   "source": [
    "# probability of having espera P(espera=1) = 1.74%, extremely unbanlaced \n",
    "y.value_counts() / y.count()"
   ]
  },
  {
   "cell_type": "code",
   "execution_count": 8,
   "id": "1cb7aa65-ce73-4d68-8a86-2157bfc890f7",
   "metadata": {},
   "outputs": [
    {
     "data": {
      "text/plain": [
       "['origem',\n",
       " 'destino',\n",
       " 'metar_station_id',\n",
       " 'metar_current_wx1',\n",
       " 'metar_current_wx2',\n",
       " 'metar_current_wx3',\n",
       " 'metar_skyc1',\n",
       " 'metar_skyc2',\n",
       " 'metar_skyc3',\n",
       " 'metar_skyc4',\n",
       " 'metar_remarks',\n",
       " 'metaf_station_id',\n",
       " 'metaf_current_wx1',\n",
       " 'metaf_current_wx2',\n",
       " 'metaf_skyc1',\n",
       " 'metaf_skyc2',\n",
       " 'metaf_remarks']"
      ]
     },
     "execution_count": 8,
     "metadata": {},
     "output_type": "execute_result"
    }
   ],
   "source": [
    "cat_features = X.select_dtypes(include=['object']).columns.tolist()\n",
    "cat_features"
   ]
  },
  {
   "cell_type": "markdown",
   "id": "fd478ac2-f9b2-4dea-a87b-4b10cee7d42b",
   "metadata": {},
   "source": [
    "# Data Imputation"
   ]
  },
  {
   "cell_type": "code",
   "execution_count": 9,
   "id": "48b400b0-a460-4e32-8ebe-d1d7e8905261",
   "metadata": {},
   "outputs": [],
   "source": [
    "# Fill categorical features with unknown class (a new category)\n",
    "# numerical features will be filled with min-value catboost default strategy\n",
    "cat_features_fill_map = {f: \"UNKNOWN\" for f in cat_features}\n",
    "X.fillna(cat_features_fill_map, inplace=True)"
   ]
  },
  {
   "cell_type": "code",
   "execution_count": 10,
   "id": "f91ffa50-6bb0-4d14-8794-54de22bf1c76",
   "metadata": {},
   "outputs": [
    {
     "name": "stdout",
     "output_type": "stream",
     "text": [
      "<class 'pandas.core.frame.DataFrame'>\n",
      "Index: 211679 entries, 504a62621cd231d6ab67e674ce538cd3 to c962a2267ae4fe0afa4c3542ebdbd403\n",
      "Data columns (total 52 columns):\n",
      " #   Column                         Non-Null Count   Dtype  \n",
      "---  ------                         --------------   -----  \n",
      " 0   origem                         211679 non-null  object \n",
      " 1   destino                        211679 non-null  object \n",
      " 2   prev_troca_cabeceira           211679 non-null  int64  \n",
      " 3   troca_cabeceira_hora_anterior  211679 non-null  int64  \n",
      " 4   metar_station_id               211679 non-null  object \n",
      " 5   metar_latitude                 210043 non-null  float64\n",
      " 6   metar_longitude                210043 non-null  float64\n",
      " 7   metar_elevation                210043 non-null  float64\n",
      " 8   metar_wind_direction           198901 non-null  float64\n",
      " 9   metar_wind_speed               210039 non-null  float64\n",
      " 10  metar_wind_gust                1969 non-null    float64\n",
      " 11  metar_visibility               210025 non-null  float64\n",
      " 12  metar_current_wx1              211679 non-null  object \n",
      " 13  metar_current_wx2              211679 non-null  object \n",
      " 14  metar_current_wx3              211679 non-null  object \n",
      " 15  metar_skyc1                    211679 non-null  object \n",
      " 16  metar_skylev1                  146600 non-null  float64\n",
      " 17  metar_skyc2                    211679 non-null  object \n",
      " 18  metar_skylev2                  86209 non-null   float64\n",
      " 19  metar_skyc3                    211679 non-null  object \n",
      " 20  metar_skylev3                  26732 non-null   float64\n",
      " 21  metar_skyc4                    211679 non-null  object \n",
      " 22  metar_skylev4                  1762 non-null    float64\n",
      " 23  metar_cloudcover               210043 non-null  float64\n",
      " 24  metar_temperature              209736 non-null  float64\n",
      " 25  metar_dewpoint                 209413 non-null  float64\n",
      " 26  metar_altimeter                209760 non-null  float64\n",
      " 27  metar_current_wx1_symbol       210043 non-null  float64\n",
      " 28  metar_current_wx2_symbol       210043 non-null  float64\n",
      " 29  metar_current_wx3_symbol       210043 non-null  float64\n",
      " 30  metar_remarks                  211679 non-null  object \n",
      " 31  metaf_station_id               211679 non-null  object \n",
      " 32  metaf_latitude                 89705 non-null   float64\n",
      " 33  metaf_longitude                89705 non-null   float64\n",
      " 34  metaf_elevation                89705 non-null   float64\n",
      " 35  metaf_wind_direction           89705 non-null   float64\n",
      " 36  metaf_wind_speed               89705 non-null   float64\n",
      " 37  metaf_visibility               89705 non-null   float64\n",
      " 38  metaf_current_wx1              211679 non-null  object \n",
      " 39  metaf_current_wx2              211679 non-null  object \n",
      " 40  metaf_skyc1                    211679 non-null  object \n",
      " 41  metaf_skylev1                  51221 non-null   float64\n",
      " 42  metaf_skyc2                    211679 non-null  object \n",
      " 43  metaf_skylev2                  1910 non-null    float64\n",
      " 44  metaf_cloudcover               89705 non-null   float64\n",
      " 45  metaf_temperature              88875 non-null   float64\n",
      " 46  metaf_dewpoint                 88875 non-null   float64\n",
      " 47  metaf_altimeter                88875 non-null   float64\n",
      " 48  metaf_current_wx1_symbol       89705 non-null   float64\n",
      " 49  metaf_current_wx2_symbol       89705 non-null   float64\n",
      " 50  metaf_current_wx3_symbol       89705 non-null   float64\n",
      " 51  metaf_remarks                  211679 non-null  object \n",
      "dtypes: float64(33), int64(2), object(17)\n",
      "memory usage: 85.6+ MB\n"
     ]
    }
   ],
   "source": [
    "X.info()"
   ]
  },
  {
   "cell_type": "markdown",
   "id": "b1df3787-23ae-4843-a74d-6fe76a423d15",
   "metadata": {},
   "source": [
    "# Data Split Train/Test"
   ]
  },
  {
   "cell_type": "code",
   "execution_count": 11,
   "id": "ab3b3ef0-2159-4e0e-bdfc-52a69bfbb75b",
   "metadata": {},
   "outputs": [],
   "source": [
    "from sklearn.model_selection import train_test_split\n",
    "random_state = 42\n",
    "X_base_train, X_test, y_base_train, y_test = train_test_split(X, y, test_size=0.20, random_state=random_state)\n",
    "X_train, X_eval, y_train, y_eval = train_test_split(X_base_train, y_base_train, test_size=1/8, random_state=random_state)"
   ]
  },
  {
   "cell_type": "code",
   "execution_count": 12,
   "id": "d086f0a7-8e49-4c6a-a8d5-065e23c089e8",
   "metadata": {},
   "outputs": [],
   "source": [
    "# real test -> to submit to kaggle, replace X_test from unlabelled samples and resplit train/eval dataset\n",
    "# WARNING: in this mode, metrics report and confusion matrix are not reliable, since it trained with all data. So they are not show.\n",
    "if real_test:\n",
    "    # TODO: move this data handling to be by default at datasets.get_public_dataset()\n",
    "\n",
    "    # data handling\n",
    "    df_real_test = datasets.get_test_dataset()    \n",
    "    df_real_test.dropna(axis=1, how=\"all\", inplace=True)\n",
    "    df_real_test.drop(columns=datetime_columns, inplace=True)\n",
    "    X_test = df_real_test\n",
    "    X_test.fillna(cat_features_fill_map, inplace=True)\n",
    "\n",
    "    # split\n",
    "    X_train, X_eval, y_train, y_eval = train_test_split(X, y, test_size=0.20, random_state=random_state)"
   ]
  },
  {
   "cell_type": "markdown",
   "id": "1619bd6a-a4c0-486b-81a9-84275a4757b3",
   "metadata": {},
   "source": [
    "# Add graph Features"
   ]
  },
  {
   "cell_type": "code",
   "execution_count": 13,
   "id": "01a39991-3d75-4246-851d-10621486ee7d",
   "metadata": {},
   "outputs": [],
   "source": [
    "from dsc2024 import features\n",
    "X_train = features.generate_graph_features(X_train)\n",
    "X_test = features.graph_features_testdata(X_test, X_train)\n",
    "X_eval = features.graph_features_testdata(X_eval, X_train)"
   ]
  },
  {
   "cell_type": "code",
   "execution_count": 28,
   "id": "20367eec-1776-4dd7-ad65-26165ace8bdc",
   "metadata": {},
   "outputs": [],
   "source": [
    "# computer class weights\n",
    "from sklearn.utils.class_weight import compute_class_weight\n",
    " \n",
    "classes = np.unique(y_train)\n",
    "class_weights = compute_class_weight(class_weight='balanced', classes=classes, y=y_train)\n",
    "class_0 = class_weights[0]\n",
    "class_weights = class_weights / class_0"
   ]
  },
  {
   "cell_type": "markdown",
   "id": "57e4f32b-d856-4f77-b368-447f56be010d",
   "metadata": {},
   "source": [
    "# Training model"
   ]
  },
  {
   "cell_type": "code",
   "execution_count": 37,
   "id": "03f53c3a-7e15-4c1c-b6fd-d13550ac74ab",
   "metadata": {},
   "outputs": [
    {
     "data": {
      "application/vnd.jupyter.widget-view+json": {
       "model_id": "dd8adb342d394d6f90531a6af3602aea",
       "version_major": 2,
       "version_minor": 0
      },
      "text/plain": [
       "MetricVisualizer(layout=Layout(align_self='stretch', height='500px'))"
      ]
     },
     "metadata": {},
     "output_type": "display_data"
    },
    {
     "name": "stdout",
     "output_type": "stream",
     "text": [
      "Learning rate set to 0.067537\n",
      "0:\tlearn: 0.6797103\ttest: 0.6790718\tbest: 0.6790718 (0)\ttotal: 183ms\tremaining: 9m 8s\n",
      "50:\tlearn: 0.5435622\ttest: 0.5533151\tbest: 0.5532961 (49)\ttotal: 7.57s\tremaining: 7m 17s\n",
      "100:\tlearn: 0.5240794\ttest: 0.5443592\tbest: 0.5443592 (100)\ttotal: 14.9s\tremaining: 7m 7s\n",
      "150:\tlearn: 0.5113193\ttest: 0.5387976\tbest: 0.5387976 (150)\ttotal: 24.6s\tremaining: 7m 44s\n",
      "200:\tlearn: 0.4890247\ttest: 0.5350741\tbest: 0.5344829 (187)\ttotal: 36.9s\tremaining: 8m 33s\n",
      "250:\tlearn: 0.4578960\ttest: 0.5315112\tbest: 0.5309177 (246)\ttotal: 48.2s\tremaining: 8m 47s\n",
      "300:\tlearn: 0.4324218\ttest: 0.5334151\tbest: 0.5309177 (246)\ttotal: 57.7s\tremaining: 8m 37s\n",
      "Stopped by overfitting detector  (100 iterations wait)\n",
      "\n",
      "bestTest = 0.5309176841\n",
      "bestIteration = 246\n",
      "\n",
      "Shrink model to first 247 iterations.\n"
     ]
    }
   ],
   "source": [
    "from catboost import CatBoostClassifier, Pool\n",
    "\n",
    "train_data = Pool(\n",
    "   data=X_train,\n",
    "   label=y_train,\n",
    "   cat_features=cat_features\n",
    ")\n",
    "\n",
    "# metric = \"TotalF1:average=Macro;use_weights=False\"\n",
    "eval_metric = \"Logloss\"\n",
    "metric = \"F1:use_weights=false\"\n",
    "model = CatBoostClassifier(\n",
    "    iterations=3000,  # Maximum number of trees (you can adjust this)\n",
    "    early_stopping_rounds=100,  # Number of iterations to wait for improvement\n",
    "    eval_metric=eval_metric,  # Metric to use for early stopping\n",
    "    cat_features=cat_features,\n",
    "    custom_loss=[metric],\n",
    "    class_weights=class_weights, # class weights, because dataset is unbalanced\n",
    "    verbose=50,  # Print information every n iterations,\n",
    "    random_seed=random_state,\n",
    ")\n",
    "\n",
    "model.fit(train_data, eval_set=(X_eval, y_eval), plot=True)\n",
    "y_pred = model.predict(X_test)"
   ]
  },
  {
   "cell_type": "markdown",
   "id": "8876204a-7730-44c8-bc47-f907b2ae31ce",
   "metadata": {},
   "source": [
    "# Model evaluation"
   ]
  },
  {
   "cell_type": "code",
   "execution_count": 38,
   "id": "d2250f12-fef3-4a37-b114-3fd0e82817fd",
   "metadata": {},
   "outputs": [
    {
     "name": "stdout",
     "output_type": "stream",
     "text": [
      "Classification Report: F1[class=1] = 0.092\n",
      "              precision    recall  f1-score   support\n",
      "\n",
      "           0       0.99      0.76      0.86     41616\n",
      "           1       0.05      0.71      0.09       720\n",
      "\n",
      "    accuracy                           0.76     42336\n",
      "   macro avg       0.52      0.74      0.48     42336\n",
      "weighted avg       0.98      0.76      0.85     42336\n",
      "\n",
      "Confusion Matrix:\n",
      "[[31627  9989]\n",
      " [  206   514]]\n"
     ]
    },
    {
     "data": {
      "image/png": "[encoded data removed]",
      "text/plain": [
       "<Figure size 640x480 with 2 Axes>"
      ]
     },
     "metadata": {},
     "output_type": "display_data"
    }
   ],
   "source": [
    "import matplotlib.pyplot as plt\n",
    "from sklearn.metrics import classification_report, confusion_matrix, ConfusionMatrixDisplay\n",
    "from sklearn.metrics import f1_score\n",
    "\n",
    "if not real_test:\n",
    "    report = classification_report(y_test, y_pred)\n",
    "    f1_score_class1 = f1_score(y_test, y_pred, average=None)\n",
    "    print(f\"Classification Report: F1[class=1] = {round(f1_score_class1[1], 3)}\")\n",
    "    print(report)\n",
    "    \n",
    "    # Print confusion matrix\n",
    "    cm = confusion_matrix(y_test, y_pred)\n",
    "    print(\"Confusion Matrix:\")\n",
    "    print(cm)\n",
    "    disp = ConfusionMatrixDisplay(confusion_matrix=cm)\n",
    "    disp.plot(cmap=plt.cm.Blues)\n",
    "    plt.show()"
   ]
  },
  {
   "cell_type": "markdown",
   "id": "f4116263-dd9d-4698-8c66-70b0f259e294",
   "metadata": {},
   "source": [
    "# Save prediction\n"
   ]
  },
  {
   "cell_type": "code",
   "execution_count": 18,
   "id": "693742d0-ddb5-414d-83a1-47bdd883f750",
   "metadata": {},
   "outputs": [],
   "source": [
    "y_pred_series = pd.Series(y_pred, index=X_test.index, name=\"espera\")\n",
    "y_pred_series.to_csv(datasets.datasets_dir / \"catboost_submit.csv\")"
   ]
  },
  {
   "cell_type": "code",
   "execution_count": 20,
   "id": "e3d997c8-efc6-42d0-87b2-d53dbefa1bb7",
   "metadata": {},
   "outputs": [
    {
     "data": {
      "text/plain": [
       "42336"
      ]
     },
     "execution_count": 20,
     "metadata": {},
     "output_type": "execute_result"
    }
   ],
   "source": [
    "y_pred_series.count()"
   ]
  },
  {
   "cell_type": "code",
   "execution_count": null,
   "id": "1fcc389f-41ba-42e8-9028-20c827789484",
   "metadata": {},
   "outputs": [],
   "source": []
  }
 ],
 "metadata": {
  "kernelspec": {
   "display_name": "Python 3 (ipykernel)",
   "language": "python",
   "name": "python3"
  },
  "language_info": {
   "codemirror_mode": {
    "name": "ipython",
    "version": 3
   },
   "file_extension": ".py",
   "mimetype": "text/x-python",
   "name": "python",
   "nbconvert_exporter": "python",
   "pygments_lexer": "ipython3",
   "version": "3.10.12"
  }
 },
 "nbformat": 4,
 "nbformat_minor": 5
}

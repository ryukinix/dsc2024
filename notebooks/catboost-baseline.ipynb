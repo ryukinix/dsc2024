{
 "cells": [
  {
   "cell_type": "code",
   "execution_count": 1,
   "id": "f78846aa-6ec9-46dc-a923-67d167939194",
   "metadata": {},
   "outputs": [],
   "source": [
    "import numpy as np\n",
    "import pandas as pd\n",
    "\n",
    "from dsc2024 import datasets\n",
    "from dsc2024 import handling\n",
    "from dsc2024 import features"
   ]
  },
  {
   "cell_type": "markdown",
   "id": "c4548a4d-ee45-4e6e-956a-756e30b6b2bd",
   "metadata": {},
   "source": [
    "# Data Handling"
   ]
  },
  {
   "cell_type": "code",
   "execution_count": 2,
   "id": "f2f5dccc-794d-4fdd-ac45-c1384c06094d",
   "metadata": {},
   "outputs": [],
   "source": [
    "# Parameters\n",
    "sampling = None # None to use everything\n",
    "real_test = False # cancel sampling!"
   ]
  },
  {
   "cell_type": "code",
   "execution_count": null,
   "id": "121483fd-8b73-4c55-8da2-7db6a8f5a589",
   "metadata": {},
   "outputs": [
    {
     "name": "stderr",
     "output_type": "stream",
     "text": [
      "/home/lerax/Desktop/workspace/dsc2024/dsc2024/handling.py:40: PerformanceWarning: indexing past lexsort depth may impact performance.\n",
      "  metar_value = metar_extra.metar.at[(station, hora_ref)].values[0]\n",
      "\u001b[32m2024-05-12 14:12:39.708\u001b[0m | \u001b[33m\u001b[1mWARNING \u001b[0m | \u001b[36mdsc2024.handling\u001b[0m:\u001b[36mparse_metar_as_dataframe\u001b[0m:\u001b[36m57\u001b[0m - \u001b[33m\u001b[1mError(row=149631): <class 'metpy.io._metar_parser.metar_parser.ParseError'> - Line 1: expected one of:\n",
      "\n",
      "    - [\\d] from METAR::datetime\n",
      "    - \"Z\" from METAR::datetime\n",
      "\n",
      "     1 | METAR COR SBSV 051300 10012KT 9999 FEW021 SCT050 28/24 Q1014=\n",
      "                              ^\u001b[0m\n",
      "\u001b[32m2024-05-12 14:12:39.712\u001b[0m | \u001b[33m\u001b[1mWARNING \u001b[0m | \u001b[36mdsc2024.handling\u001b[0m:\u001b[36mparse_metar_as_dataframe\u001b[0m:\u001b[36m57\u001b[0m - \u001b[33m\u001b[1mError(row=149639): <class 'metpy.io._metar_parser.metar_parser.ParseError'> - Line 1: expected one of:\n",
      "\n",
      "    - [\\d] from METAR::datetime\n",
      "    - \"Z\" from METAR::datetime\n",
      "\n",
      "     1 | METAR COR SBSV 051300 10012KT 9999 FEW021 SCT050 28/24 Q1014=\n",
      "                              ^\u001b[0m\n",
      "\u001b[32m2024-05-12 14:12:39.722\u001b[0m | \u001b[33m\u001b[1mWARNING \u001b[0m | \u001b[36mdsc2024.handling\u001b[0m:\u001b[36mparse_metar_as_dataframe\u001b[0m:\u001b[36m57\u001b[0m - \u001b[33m\u001b[1mError(row=149657): <class 'metpy.io._metar_parser.metar_parser.ParseError'> - Line 1: expected one of:\n",
      "\n",
      "    - [\\d] from METAR::datetime\n",
      "    - \"Z\" from METAR::datetime\n",
      "\n",
      "     1 | METAR COR SBSV 051400 09013KT 9999 VCSH FEW021 SCT050 29/24 Q1013=\n",
      "                              ^\u001b[0m\n",
      "\u001b[32m2024-05-12 14:12:39.734\u001b[0m | \u001b[33m\u001b[1mWARNING \u001b[0m | \u001b[36mdsc2024.handling\u001b[0m:\u001b[36mparse_metar_as_dataframe\u001b[0m:\u001b[36m57\u001b[0m - \u001b[33m\u001b[1mError(row=149673): <class 'metpy.io._metar_parser.metar_parser.ParseError'> - Line 1: expected one of:\n",
      "\n",
      "    - [\\d] from METAR::datetime\n",
      "    - \"Z\" from METAR::datetime\n",
      "\n",
      "     1 | METAR COR SBSV 051400 09013KT 9999 VCSH FEW021 SCT050 29/24 Q1013=\n",
      "                              ^\u001b[0m\n",
      "\u001b[32m2024-05-12 14:12:39.739\u001b[0m | \u001b[33m\u001b[1mWARNING \u001b[0m | \u001b[36mdsc2024.handling\u001b[0m:\u001b[36mparse_metar_as_dataframe\u001b[0m:\u001b[36m57\u001b[0m - \u001b[33m\u001b[1mError(row=149678): <class 'metpy.io._metar_parser.metar_parser.ParseError'> - Line 1: expected one of:\n",
      "\n",
      "    - [\\d] from METAR::datetime\n",
      "    - \"Z\" from METAR::datetime\n",
      "\n",
      "     1 | METAR COR SBSV 051400 09013KT 9999 VCSH FEW021 SCT050 29/24 Q1013=\n",
      "                              ^\u001b[0m\n",
      "\u001b[32m2024-05-12 14:12:39.741\u001b[0m | \u001b[33m\u001b[1mWARNING \u001b[0m | \u001b[36mdsc2024.handling\u001b[0m:\u001b[36mparse_metar_as_dataframe\u001b[0m:\u001b[36m57\u001b[0m - \u001b[33m\u001b[1mError(row=149682): <class 'metpy.io._metar_parser.metar_parser.ParseError'> - Line 1: expected one of:\n",
      "\n",
      "    - [\\d] from METAR::datetime\n",
      "    - \"Z\" from METAR::datetime\n",
      "\n",
      "     1 | METAR COR SBSV 051400 09013KT 9999 VCSH FEW021 SCT050 29/24 Q1013=\n",
      "                              ^\u001b[0m\n",
      "\u001b[32m2024-05-12 14:12:39.742\u001b[0m | \u001b[33m\u001b[1mWARNING \u001b[0m | \u001b[36mdsc2024.handling\u001b[0m:\u001b[36mparse_metar_as_dataframe\u001b[0m:\u001b[36m57\u001b[0m - \u001b[33m\u001b[1mError(row=149683): <class 'metpy.io._metar_parser.metar_parser.ParseError'> - Line 1: expected one of:\n",
      "\n",
      "    - [\\d] from METAR::datetime\n",
      "    - \"Z\" from METAR::datetime\n",
      "\n",
      "     1 | METAR COR SBSV 051400 09013KT 9999 VCSH FEW021 SCT050 29/24 Q1013=\n",
      "                              ^\u001b[0m\n",
      "\u001b[32m2024-05-12 14:12:39.745\u001b[0m | \u001b[33m\u001b[1mWARNING \u001b[0m | \u001b[36mdsc2024.handling\u001b[0m:\u001b[36mparse_metar_as_dataframe\u001b[0m:\u001b[36m57\u001b[0m - \u001b[33m\u001b[1mError(row=149686): <class 'metpy.io._metar_parser.metar_parser.ParseError'> - Line 1: expected one of:\n",
      "\n",
      "    - [\\d] from METAR::datetime\n",
      "    - \"Z\" from METAR::datetime\n",
      "\n",
      "     1 | METAR COR SBSV 051400 09013KT 9999 VCSH FEW021 SCT050 29/24 Q1013=\n",
      "                              ^\u001b[0m\n",
      "\u001b[32m2024-05-12 14:12:39.747\u001b[0m | \u001b[33m\u001b[1mWARNING \u001b[0m | \u001b[36mdsc2024.handling\u001b[0m:\u001b[36mparse_metar_as_dataframe\u001b[0m:\u001b[36m57\u001b[0m - \u001b[33m\u001b[1mError(row=149689): <class 'metpy.io._metar_parser.metar_parser.ParseError'> - Line 1: expected one of:\n",
      "\n",
      "    - [\\d] from METAR::datetime\n",
      "    - \"Z\" from METAR::datetime\n",
      "\n",
      "     1 | METAR COR SBSV 051400 09013KT 9999 VCSH FEW021 SCT050 29/24 Q1013=\n",
      "                              ^\u001b[0m\n",
      "\u001b[32m2024-05-12 14:12:39.752\u001b[0m | \u001b[33m\u001b[1mWARNING \u001b[0m | \u001b[36mdsc2024.handling\u001b[0m:\u001b[36mparse_metar_as_dataframe\u001b[0m:\u001b[36m57\u001b[0m - \u001b[33m\u001b[1mError(row=149694): <class 'metpy.io._metar_parser.metar_parser.ParseError'> - Line 1: expected one of:\n",
      "\n",
      "    - [\\d] from METAR::datetime\n",
      "    - \"Z\" from METAR::datetime\n",
      "\n",
      "     1 | METAR COR SBSV 051400 09013KT 9999 VCSH FEW021 SCT050 29/24 Q1013=\n",
      "                              ^\u001b[0m\n",
      "\u001b[32m2024-05-12 14:12:46.922\u001b[0m | \u001b[33m\u001b[1mWARNING \u001b[0m | \u001b[36mdsc2024.handling\u001b[0m:\u001b[36mparse_metar_as_dataframe\u001b[0m:\u001b[36m57\u001b[0m - \u001b[33m\u001b[1mError(row=164460): <class 'metpy.io._metar_parser.metar_parser.ParseError'> - Line 1: expected one of:\n",
      "\n",
      "    - [\\d] from METAR::datetime\n",
      "    - \"Z\" from METAR::datetime\n",
      "\n",
      "     1 | METAR SBFL 221300 17006KT 9999 BKN020 24/16 Q1017=\n",
      "                          ^\u001b[0m\n",
      "\u001b[32m2024-05-12 14:12:46.930\u001b[0m | \u001b[33m\u001b[1mWARNING \u001b[0m | \u001b[36mdsc2024.handling\u001b[0m:\u001b[36mparse_metar_as_dataframe\u001b[0m:\u001b[36m57\u001b[0m - \u001b[33m\u001b[1mError(row=164474): <class 'metpy.io._metar_parser.metar_parser.ParseError'> - Line 1: expected one of:\n",
      "\n",
      "    - [\\d] from METAR::datetime\n",
      "    - \"Z\" from METAR::datetime\n",
      "\n",
      "     1 | METAR SBFL 221300 17006KT 9999 BKN020 24/16 Q1017=\n",
      "                          ^\u001b[0m\n",
      "/home/lerax/Desktop/workspace/dsc2024/dsc2024/handling.py:40: PerformanceWarning: indexing past lexsort depth may impact performance.\n",
      "  metar_value = metar_extra.metar.at[(station, hora_ref)].values[0]\n",
      "\u001b[32m2024-05-12 14:13:52.447\u001b[0m | \u001b[33m\u001b[1mWARNING \u001b[0m | \u001b[36mdsc2024.handling\u001b[0m:\u001b[36mparse_metar_as_dataframe\u001b[0m:\u001b[36m46\u001b[0m - \u001b[33m\u001b[1mError(row=48): <class 'KeyError'> - ('SBRJ', Timestamp('2022-06-01 07:00:00'))\u001b[0m\n",
      "\u001b[32m2024-05-12 14:13:52.450\u001b[0m | \u001b[33m\u001b[1mWARNING \u001b[0m | \u001b[36mdsc2024.handling\u001b[0m:\u001b[36mparse_metar_as_dataframe\u001b[0m:\u001b[36m46\u001b[0m - \u001b[33m\u001b[1mError(row=53): <class 'KeyError'> - ('SBRJ', Timestamp('2022-06-01 07:00:00'))\u001b[0m\n",
      "\u001b[32m2024-05-12 14:13:52.454\u001b[0m | \u001b[33m\u001b[1mWARNING \u001b[0m | \u001b[36mdsc2024.handling\u001b[0m:\u001b[36mparse_metar_as_dataframe\u001b[0m:\u001b[36m46\u001b[0m - \u001b[33m\u001b[1mError(row=55): <class 'KeyError'> - ('SBRJ', Timestamp('2022-06-01 07:00:00'))\u001b[0m\n",
      "\u001b[32m2024-05-12 14:13:53.203\u001b[0m | \u001b[33m\u001b[1mWARNING \u001b[0m | \u001b[36mdsc2024.handling\u001b[0m:\u001b[36mparse_metar_as_dataframe\u001b[0m:\u001b[36m46\u001b[0m - \u001b[33m\u001b[1mError(row=823): <class 'KeyError'> - ('SBRJ', Timestamp('2022-06-02 07:00:00'))\u001b[0m\n",
      "\u001b[32m2024-05-12 14:13:53.209\u001b[0m | \u001b[33m\u001b[1mWARNING \u001b[0m | \u001b[36mdsc2024.handling\u001b[0m:\u001b[36mparse_metar_as_dataframe\u001b[0m:\u001b[36m46\u001b[0m - \u001b[33m\u001b[1mError(row=827): <class 'KeyError'> - ('SBRJ', Timestamp('2022-06-02 07:00:00'))\u001b[0m\n",
      "\u001b[32m2024-05-12 14:13:54.093\u001b[0m | \u001b[33m\u001b[1mWARNING \u001b[0m | \u001b[36mdsc2024.handling\u001b[0m:\u001b[36mparse_metar_as_dataframe\u001b[0m:\u001b[36m46\u001b[0m - \u001b[33m\u001b[1mError(row=1595): <class 'KeyError'> - ('SBRJ', Timestamp('2022-06-03 06:00:00'))\u001b[0m\n",
      "\u001b[32m2024-05-12 14:13:54.097\u001b[0m | \u001b[33m\u001b[1mWARNING \u001b[0m | \u001b[36mdsc2024.handling\u001b[0m:\u001b[36mparse_metar_as_dataframe\u001b[0m:\u001b[36m46\u001b[0m - \u001b[33m\u001b[1mError(row=1600): <class 'KeyError'> - ('SBRJ', Timestamp('2022-06-03 07:00:00'))\u001b[0m\n",
      "\u001b[32m2024-05-12 14:13:54.894\u001b[0m | \u001b[33m\u001b[1mWARNING \u001b[0m | \u001b[36mdsc2024.handling\u001b[0m:\u001b[36mparse_metar_as_dataframe\u001b[0m:\u001b[36m46\u001b[0m - \u001b[33m\u001b[1mError(row=2406): <class 'KeyError'> - ('SBRJ', Timestamp('2022-06-04 06:00:00'))\u001b[0m\n",
      "\u001b[32m2024-05-12 14:13:54.902\u001b[0m | \u001b[33m\u001b[1mWARNING \u001b[0m | \u001b[36mdsc2024.handling\u001b[0m:\u001b[36mparse_metar_as_dataframe\u001b[0m:\u001b[36m46\u001b[0m - \u001b[33m\u001b[1mError(row=2410): <class 'KeyError'> - ('SBRJ', Timestamp('2022-06-04 07:00:00'))\u001b[0m\n",
      "\u001b[32m2024-05-12 14:13:55.632\u001b[0m | \u001b[33m\u001b[1mWARNING \u001b[0m | \u001b[36mdsc2024.handling\u001b[0m:\u001b[36mparse_metar_as_dataframe\u001b[0m:\u001b[36m46\u001b[0m - \u001b[33m\u001b[1mError(row=3002): <class 'KeyError'> - ('SBRJ', Timestamp('2022-06-05 06:00:00'))\u001b[0m\n",
      "\u001b[32m2024-05-12 14:13:56.488\u001b[0m | \u001b[33m\u001b[1mWARNING \u001b[0m | \u001b[36mdsc2024.handling\u001b[0m:\u001b[36mparse_metar_as_dataframe\u001b[0m:\u001b[36m46\u001b[0m - \u001b[33m\u001b[1mError(row=3707): <class 'KeyError'> - ('SBRJ', Timestamp('2022-06-06 06:00:00'))\u001b[0m\n",
      "\u001b[32m2024-05-12 14:13:56.499\u001b[0m | \u001b[33m\u001b[1mWARNING \u001b[0m | \u001b[36mdsc2024.handling\u001b[0m:\u001b[36mparse_metar_as_dataframe\u001b[0m:\u001b[36m46\u001b[0m - \u001b[33m\u001b[1mError(row=3715): <class 'KeyError'> - ('SBRJ', Timestamp('2022-06-06 07:00:00'))\u001b[0m\n",
      "\u001b[32m2024-05-12 14:13:57.388\u001b[0m | \u001b[33m\u001b[1mWARNING \u001b[0m | \u001b[36mdsc2024.handling\u001b[0m:\u001b[36mparse_metar_as_dataframe\u001b[0m:\u001b[36m46\u001b[0m - \u001b[33m\u001b[1mError(row=4525): <class 'KeyError'> - ('SBRJ', Timestamp('2022-06-07 06:00:00'))\u001b[0m\n",
      "\u001b[32m2024-05-12 14:13:57.390\u001b[0m | \u001b[33m\u001b[1mWARNING \u001b[0m | \u001b[36mdsc2024.handling\u001b[0m:\u001b[36mparse_metar_as_dataframe\u001b[0m:\u001b[36m46\u001b[0m - \u001b[33m\u001b[1mError(row=4527): <class 'KeyError'> - ('SBRJ', Timestamp('2022-06-07 07:00:00'))\u001b[0m\n",
      "\u001b[32m2024-05-12 14:13:58.126\u001b[0m | \u001b[33m\u001b[1mWARNING \u001b[0m | \u001b[36mdsc2024.handling\u001b[0m:\u001b[36mparse_metar_as_dataframe\u001b[0m:\u001b[36m46\u001b[0m - \u001b[33m\u001b[1mError(row=5309): <class 'KeyError'> - ('SBRJ', Timestamp('2022-06-08 07:00:00'))\u001b[0m\n",
      "\u001b[32m2024-05-12 14:13:58.129\u001b[0m | \u001b[33m\u001b[1mWARNING \u001b[0m | \u001b[36mdsc2024.handling\u001b[0m:\u001b[36mparse_metar_as_dataframe\u001b[0m:\u001b[36m46\u001b[0m - \u001b[33m\u001b[1mError(row=5313): <class 'KeyError'> - ('SBRJ', Timestamp('2022-06-08 07:00:00'))\u001b[0m\n",
      "\u001b[32m2024-05-12 14:13:58.888\u001b[0m | \u001b[33m\u001b[1mWARNING \u001b[0m | \u001b[36mdsc2024.handling\u001b[0m:\u001b[36mparse_metar_as_dataframe\u001b[0m:\u001b[36m46\u001b[0m - \u001b[33m\u001b[1mError(row=6094): <class 'KeyError'> - ('SBRJ', Timestamp('2022-06-09 06:00:00'))\u001b[0m\n",
      "\u001b[32m2024-05-12 14:13:58.893\u001b[0m | \u001b[33m\u001b[1mWARNING \u001b[0m | \u001b[36mdsc2024.handling\u001b[0m:\u001b[36mparse_metar_as_dataframe\u001b[0m:\u001b[36m46\u001b[0m - \u001b[33m\u001b[1mError(row=6100): <class 'KeyError'> - ('SBRJ', Timestamp('2022-06-09 07:00:00'))\u001b[0m\n",
      "\u001b[32m2024-05-12 14:13:59.666\u001b[0m | \u001b[33m\u001b[1mWARNING \u001b[0m | \u001b[36mdsc2024.handling\u001b[0m:\u001b[36mparse_metar_as_dataframe\u001b[0m:\u001b[36m46\u001b[0m - \u001b[33m\u001b[1mError(row=6924): <class 'KeyError'> - ('SBRJ', Timestamp('2022-06-10 07:00:00'))\u001b[0m\n",
      "\u001b[32m2024-05-12 14:14:00.490\u001b[0m | \u001b[33m\u001b[1mWARNING \u001b[0m | \u001b[36mdsc2024.handling\u001b[0m:\u001b[36mparse_metar_as_dataframe\u001b[0m:\u001b[36m46\u001b[0m - \u001b[33m\u001b[1mError(row=7771): <class 'KeyError'> - ('SBRJ', Timestamp('2022-06-11 07:00:00'))\u001b[0m\n",
      "\u001b[32m2024-05-12 14:14:00.495\u001b[0m | \u001b[33m\u001b[1mWARNING \u001b[0m | \u001b[36mdsc2024.handling\u001b[0m:\u001b[36mparse_metar_as_dataframe\u001b[0m:\u001b[36m46\u001b[0m - \u001b[33m\u001b[1mError(row=7775): <class 'KeyError'> - ('SBRJ', Timestamp('2022-06-11 07:00:00'))\u001b[0m\n",
      "\u001b[32m2024-05-12 14:14:01.080\u001b[0m | \u001b[33m\u001b[1mWARNING \u001b[0m | \u001b[36mdsc2024.handling\u001b[0m:\u001b[36mparse_metar_as_dataframe\u001b[0m:\u001b[36m46\u001b[0m - \u001b[33m\u001b[1mError(row=8385): <class 'KeyError'> - ('SBRJ', Timestamp('2022-06-12 07:00:00'))\u001b[0m\n",
      "\u001b[32m2024-05-12 14:14:01.850\u001b[0m | \u001b[33m\u001b[1mWARNING \u001b[0m | \u001b[36mdsc2024.handling\u001b[0m:\u001b[36mparse_metar_as_dataframe\u001b[0m:\u001b[36m46\u001b[0m - \u001b[33m\u001b[1mError(row=9076): <class 'KeyError'> - ('SBRJ', Timestamp('2022-06-13 07:00:00'))\u001b[0m\n",
      "\u001b[32m2024-05-12 14:14:01.855\u001b[0m | \u001b[33m\u001b[1mWARNING \u001b[0m | \u001b[36mdsc2024.handling\u001b[0m:\u001b[36mparse_metar_as_dataframe\u001b[0m:\u001b[36m46\u001b[0m - \u001b[33m\u001b[1mError(row=9082): <class 'KeyError'> - ('SBRJ', Timestamp('2022-06-13 07:00:00'))\u001b[0m\n",
      "\u001b[32m2024-05-12 14:14:01.859\u001b[0m | \u001b[33m\u001b[1mWARNING \u001b[0m | \u001b[36mdsc2024.handling\u001b[0m:\u001b[36mparse_metar_as_dataframe\u001b[0m:\u001b[36m46\u001b[0m - \u001b[33m\u001b[1mError(row=9085): <class 'KeyError'> - ('SBRJ', Timestamp('2022-06-13 07:00:00'))\u001b[0m\n",
      "\u001b[32m2024-05-12 14:14:02.773\u001b[0m | \u001b[33m\u001b[1mWARNING \u001b[0m | \u001b[36mdsc2024.handling\u001b[0m:\u001b[36mparse_metar_as_dataframe\u001b[0m:\u001b[36m46\u001b[0m - \u001b[33m\u001b[1mError(row=9920): <class 'KeyError'> - ('SBRJ', Timestamp('2022-06-14 06:00:00'))\u001b[0m\n",
      "\u001b[32m2024-05-12 14:14:02.777\u001b[0m | \u001b[33m\u001b[1mWARNING \u001b[0m | \u001b[36mdsc2024.handling\u001b[0m:\u001b[36mparse_metar_as_dataframe\u001b[0m:\u001b[36m46\u001b[0m - \u001b[33m\u001b[1mError(row=9925): <class 'KeyError'> - ('SBRJ', Timestamp('2022-06-14 07:00:00'))\u001b[0m\n",
      "\u001b[32m2024-05-12 14:14:03.553\u001b[0m | \u001b[33m\u001b[1mWARNING \u001b[0m | \u001b[36mdsc2024.handling\u001b[0m:\u001b[36mparse_metar_as_dataframe\u001b[0m:\u001b[36m46\u001b[0m - \u001b[33m\u001b[1mError(row=10723): <class 'KeyError'> - ('SBRJ', Timestamp('2022-06-15 07:00:00'))\u001b[0m\n",
      "\u001b[32m2024-05-12 14:14:03.557\u001b[0m | \u001b[33m\u001b[1mWARNING \u001b[0m | \u001b[36mdsc2024.handling\u001b[0m:\u001b[36mparse_metar_as_dataframe\u001b[0m:\u001b[36m46\u001b[0m - \u001b[33m\u001b[1mError(row=10728): <class 'KeyError'> - ('SBRJ', Timestamp('2022-06-15 07:00:00'))\u001b[0m\n",
      "\u001b[32m2024-05-12 14:14:04.349\u001b[0m | \u001b[33m\u001b[1mWARNING \u001b[0m | \u001b[36mdsc2024.handling\u001b[0m:\u001b[36mparse_metar_as_dataframe\u001b[0m:\u001b[36m46\u001b[0m - \u001b[33m\u001b[1mError(row=11547): <class 'KeyError'> - ('SBRJ', Timestamp('2022-06-16 07:00:00'))\u001b[0m\n",
      "\u001b[32m2024-05-12 14:14:04.356\u001b[0m | \u001b[33m\u001b[1mWARNING \u001b[0m | \u001b[36mdsc2024.handling\u001b[0m:\u001b[36mparse_metar_as_dataframe\u001b[0m:\u001b[36m46\u001b[0m - \u001b[33m\u001b[1mError(row=11551): <class 'KeyError'> - ('SBRJ', Timestamp('2022-06-16 07:00:00'))\u001b[0m\n",
      "\u001b[32m2024-05-12 14:14:04.373\u001b[0m | \u001b[33m\u001b[1mWARNING \u001b[0m | \u001b[36mdsc2024.handling\u001b[0m:\u001b[36mparse_metar_as_dataframe\u001b[0m:\u001b[36m46\u001b[0m - \u001b[33m\u001b[1mError(row=11558): <class 'KeyError'> - ('SBRJ', Timestamp('2022-06-16 07:00:00'))\u001b[0m\n",
      "\u001b[32m2024-05-12 14:14:05.138\u001b[0m | \u001b[33m\u001b[1mWARNING \u001b[0m | \u001b[36mdsc2024.handling\u001b[0m:\u001b[36mparse_metar_as_dataframe\u001b[0m:\u001b[36m46\u001b[0m - \u001b[33m\u001b[1mError(row=12159): <class 'KeyError'> - ('SBRJ', Timestamp('2022-06-17 07:00:00'))\u001b[0m\n",
      "\u001b[32m2024-05-12 14:14:05.794\u001b[0m | \u001b[33m\u001b[1mWARNING \u001b[0m | \u001b[36mdsc2024.handling\u001b[0m:\u001b[36mparse_metar_as_dataframe\u001b[0m:\u001b[36m46\u001b[0m - \u001b[33m\u001b[1mError(row=12700): <class 'KeyError'> - ('SBRJ', Timestamp('2022-06-18 07:00:00'))\u001b[0m\n",
      "\u001b[32m2024-05-12 14:14:06.923\u001b[0m | \u001b[33m\u001b[1mWARNING \u001b[0m | \u001b[36mdsc2024.handling\u001b[0m:\u001b[36mparse_metar_as_dataframe\u001b[0m:\u001b[36m46\u001b[0m - \u001b[33m\u001b[1mError(row=13893): <class 'KeyError'> - ('SBRJ', Timestamp('2022-06-20 07:00:00'))\u001b[0m\n",
      "\u001b[32m2024-05-12 14:14:06.928\u001b[0m | \u001b[33m\u001b[1mWARNING \u001b[0m | \u001b[36mdsc2024.handling\u001b[0m:\u001b[36mparse_metar_as_dataframe\u001b[0m:\u001b[36m46\u001b[0m - \u001b[33m\u001b[1mError(row=13899): <class 'KeyError'> - ('SBRJ', Timestamp('2022-06-20 07:00:00'))\u001b[0m\n",
      "\u001b[32m2024-05-12 14:14:07.710\u001b[0m | \u001b[33m\u001b[1mWARNING \u001b[0m | \u001b[36mdsc2024.handling\u001b[0m:\u001b[36mparse_metar_as_dataframe\u001b[0m:\u001b[36m46\u001b[0m - \u001b[33m\u001b[1mError(row=14731): <class 'KeyError'> - ('SBRJ', Timestamp('2022-06-21 07:00:00'))\u001b[0m\n",
      "\u001b[32m2024-05-12 14:14:07.713\u001b[0m | \u001b[33m\u001b[1mWARNING \u001b[0m | \u001b[36mdsc2024.handling\u001b[0m:\u001b[36mparse_metar_as_dataframe\u001b[0m:\u001b[36m46\u001b[0m - \u001b[33m\u001b[1mError(row=14734): <class 'KeyError'> - ('SBRJ', Timestamp('2022-06-21 07:00:00'))\u001b[0m\n",
      "\u001b[32m2024-05-12 14:14:08.483\u001b[0m | \u001b[33m\u001b[1mWARNING \u001b[0m | \u001b[36mdsc2024.handling\u001b[0m:\u001b[36mparse_metar_as_dataframe\u001b[0m:\u001b[36m46\u001b[0m - \u001b[33m\u001b[1mError(row=15564): <class 'KeyError'> - ('SBRJ', Timestamp('2022-06-22 07:00:00'))\u001b[0m\n",
      "\u001b[32m2024-05-12 14:14:08.485\u001b[0m | \u001b[33m\u001b[1mWARNING \u001b[0m | \u001b[36mdsc2024.handling\u001b[0m:\u001b[36mparse_metar_as_dataframe\u001b[0m:\u001b[36m46\u001b[0m - \u001b[33m\u001b[1mError(row=15566): <class 'KeyError'> - ('SBRJ', Timestamp('2022-06-22 07:00:00'))\u001b[0m\n",
      "\u001b[32m2024-05-12 14:14:09.232\u001b[0m | \u001b[33m\u001b[1mWARNING \u001b[0m | \u001b[36mdsc2024.handling\u001b[0m:\u001b[36mparse_metar_as_dataframe\u001b[0m:\u001b[36m46\u001b[0m - \u001b[33m\u001b[1mError(row=16370): <class 'KeyError'> - ('SBRJ', Timestamp('2022-06-23 07:00:00'))\u001b[0m\n",
      "\u001b[32m2024-05-12 14:14:09.237\u001b[0m | \u001b[33m\u001b[1mWARNING \u001b[0m | \u001b[36mdsc2024.handling\u001b[0m:\u001b[36mparse_metar_as_dataframe\u001b[0m:\u001b[36m46\u001b[0m - \u001b[33m\u001b[1mError(row=16375): <class 'KeyError'> - ('SBRJ', Timestamp('2022-06-23 07:00:00'))\u001b[0m\n",
      "\u001b[32m2024-05-12 14:14:10.008\u001b[0m | \u001b[33m\u001b[1mWARNING \u001b[0m | \u001b[36mdsc2024.handling\u001b[0m:\u001b[36mparse_metar_as_dataframe\u001b[0m:\u001b[36m46\u001b[0m - \u001b[33m\u001b[1mError(row=17205): <class 'KeyError'> - ('SBRJ', Timestamp('2022-06-24 07:00:00'))\u001b[0m\n",
      "\u001b[32m2024-05-12 14:14:10.010\u001b[0m | \u001b[33m\u001b[1mWARNING \u001b[0m | \u001b[36mdsc2024.handling\u001b[0m:\u001b[36mparse_metar_as_dataframe\u001b[0m:\u001b[36m46\u001b[0m - \u001b[33m\u001b[1mError(row=17208): <class 'KeyError'> - ('SBRJ', Timestamp('2022-06-24 07:00:00'))\u001b[0m\n",
      "\u001b[32m2024-05-12 14:14:10.012\u001b[0m | \u001b[33m\u001b[1mWARNING \u001b[0m | \u001b[36mdsc2024.handling\u001b[0m:\u001b[36mparse_metar_as_dataframe\u001b[0m:\u001b[36m46\u001b[0m - \u001b[33m\u001b[1mError(row=17209): <class 'KeyError'> - ('SBRJ', Timestamp('2022-06-24 07:00:00'))\u001b[0m\n",
      "\u001b[32m2024-05-12 14:14:10.773\u001b[0m | \u001b[33m\u001b[1mWARNING \u001b[0m | \u001b[36mdsc2024.handling\u001b[0m:\u001b[36mparse_metar_as_dataframe\u001b[0m:\u001b[36m46\u001b[0m - \u001b[33m\u001b[1mError(row=18036): <class 'KeyError'> - ('SBRJ', Timestamp('2022-06-25 07:00:00'))\u001b[0m\n",
      "\u001b[32m2024-05-12 14:14:10.777\u001b[0m | \u001b[33m\u001b[1mWARNING \u001b[0m | \u001b[36mdsc2024.handling\u001b[0m:\u001b[36mparse_metar_as_dataframe\u001b[0m:\u001b[36m46\u001b[0m - \u001b[33m\u001b[1mError(row=18040): <class 'KeyError'> - ('SBRJ', Timestamp('2022-06-25 07:00:00'))\u001b[0m\n",
      "\u001b[32m2024-05-12 14:14:11.393\u001b[0m | \u001b[33m\u001b[1mWARNING \u001b[0m | \u001b[36mdsc2024.handling\u001b[0m:\u001b[36mparse_metar_as_dataframe\u001b[0m:\u001b[36m46\u001b[0m - \u001b[33m\u001b[1mError(row=18652): <class 'KeyError'> - ('SBRJ', Timestamp('2022-06-26 06:00:00'))\u001b[0m\n",
      "\u001b[32m2024-05-12 14:14:12.077\u001b[0m | \u001b[33m\u001b[1mWARNING \u001b[0m | \u001b[36mdsc2024.handling\u001b[0m:\u001b[36mparse_metar_as_dataframe\u001b[0m:\u001b[36m46\u001b[0m - \u001b[33m\u001b[1mError(row=19372): <class 'KeyError'> - ('SBRJ', Timestamp('2022-06-27 07:00:00'))\u001b[0m\n",
      "\u001b[32m2024-05-12 14:14:12.081\u001b[0m | \u001b[33m\u001b[1mWARNING \u001b[0m | \u001b[36mdsc2024.handling\u001b[0m:\u001b[36mparse_metar_as_dataframe\u001b[0m:\u001b[36m46\u001b[0m - \u001b[33m\u001b[1mError(row=19376): <class 'KeyError'> - ('SBRJ', Timestamp('2022-06-27 07:00:00'))\u001b[0m\n",
      "\u001b[32m2024-05-12 14:14:12.083\u001b[0m | \u001b[33m\u001b[1mWARNING \u001b[0m | \u001b[36mdsc2024.handling\u001b[0m:\u001b[36mparse_metar_as_dataframe\u001b[0m:\u001b[36m46\u001b[0m - \u001b[33m\u001b[1mError(row=19378): <class 'KeyError'> - ('SBRJ', Timestamp('2022-06-27 07:00:00'))\u001b[0m\n",
      "\u001b[32m2024-05-12 14:14:12.944\u001b[0m | \u001b[33m\u001b[1mWARNING \u001b[0m | \u001b[36mdsc2024.handling\u001b[0m:\u001b[36mparse_metar_as_dataframe\u001b[0m:\u001b[36m46\u001b[0m - \u001b[33m\u001b[1mError(row=20225): <class 'KeyError'> - ('SBRJ', Timestamp('2022-06-28 07:00:00'))\u001b[0m\n",
      "\u001b[32m2024-05-12 14:14:12.947\u001b[0m | \u001b[33m\u001b[1mWARNING \u001b[0m | \u001b[36mdsc2024.handling\u001b[0m:\u001b[36mparse_metar_as_dataframe\u001b[0m:\u001b[36m46\u001b[0m - \u001b[33m\u001b[1mError(row=20227): <class 'KeyError'> - ('SBRJ', Timestamp('2022-06-28 07:00:00'))\u001b[0m\n",
      "\u001b[32m2024-05-12 14:14:13.690\u001b[0m | \u001b[33m\u001b[1mWARNING \u001b[0m | \u001b[36mdsc2024.handling\u001b[0m:\u001b[36mparse_metar_as_dataframe\u001b[0m:\u001b[36m46\u001b[0m - \u001b[33m\u001b[1mError(row=21022): <class 'KeyError'> - ('SBRJ', Timestamp('2022-06-29 07:00:00'))\u001b[0m\n",
      "\u001b[32m2024-05-12 14:14:13.698\u001b[0m | \u001b[33m\u001b[1mWARNING \u001b[0m | \u001b[36mdsc2024.handling\u001b[0m:\u001b[36mparse_metar_as_dataframe\u001b[0m:\u001b[36m46\u001b[0m - \u001b[33m\u001b[1mError(row=21028): <class 'KeyError'> - ('SBRJ', Timestamp('2022-06-29 07:00:00'))\u001b[0m\n",
      "\u001b[32m2024-05-12 14:14:14.443\u001b[0m | \u001b[33m\u001b[1mWARNING \u001b[0m | \u001b[36mdsc2024.handling\u001b[0m:\u001b[36mparse_metar_as_dataframe\u001b[0m:\u001b[36m46\u001b[0m - \u001b[33m\u001b[1mError(row=21835): <class 'KeyError'> - ('SBRJ', Timestamp('2022-06-30 07:00:00'))\u001b[0m\n",
      "\u001b[32m2024-05-12 14:14:15.197\u001b[0m | \u001b[33m\u001b[1mWARNING \u001b[0m | \u001b[36mdsc2024.handling\u001b[0m:\u001b[36mparse_metar_as_dataframe\u001b[0m:\u001b[36m46\u001b[0m - \u001b[33m\u001b[1mError(row=22649): <class 'KeyError'> - ('SBRJ', Timestamp('2022-07-01 07:00:00'))\u001b[0m\n",
      "\u001b[32m2024-05-12 14:14:15.994\u001b[0m | \u001b[33m\u001b[1mWARNING \u001b[0m | \u001b[36mdsc2024.handling\u001b[0m:\u001b[36mparse_metar_as_dataframe\u001b[0m:\u001b[36m46\u001b[0m - \u001b[33m\u001b[1mError(row=23512): <class 'KeyError'> - ('SBRJ', Timestamp('2022-07-02 07:00:00'))\u001b[0m\n",
      "\u001b[32m2024-05-12 14:14:16.000\u001b[0m | \u001b[33m\u001b[1mWARNING \u001b[0m | \u001b[36mdsc2024.handling\u001b[0m:\u001b[36mparse_metar_as_dataframe\u001b[0m:\u001b[36m46\u001b[0m - \u001b[33m\u001b[1mError(row=23519): <class 'KeyError'> - ('SBRJ', Timestamp('2022-07-02 07:00:00'))\u001b[0m\n",
      "\u001b[32m2024-05-12 14:14:16.595\u001b[0m | \u001b[33m\u001b[1mWARNING \u001b[0m | \u001b[36mdsc2024.handling\u001b[0m:\u001b[36mparse_metar_as_dataframe\u001b[0m:\u001b[36m46\u001b[0m - \u001b[33m\u001b[1mError(row=24165): <class 'KeyError'> - ('SBRJ', Timestamp('2022-07-03 07:00:00'))\u001b[0m\n",
      "\u001b[32m2024-05-12 14:14:17.285\u001b[0m | \u001b[33m\u001b[1mWARNING \u001b[0m | \u001b[36mdsc2024.handling\u001b[0m:\u001b[36mparse_metar_as_dataframe\u001b[0m:\u001b[36m46\u001b[0m - \u001b[33m\u001b[1mError(row=24915): <class 'KeyError'> - ('SBRJ', Timestamp('2022-07-04 07:00:00'))\u001b[0m\n",
      "\u001b[32m2024-05-12 14:14:17.290\u001b[0m | \u001b[33m\u001b[1mWARNING \u001b[0m | \u001b[36mdsc2024.handling\u001b[0m:\u001b[36mparse_metar_as_dataframe\u001b[0m:\u001b[36m46\u001b[0m - \u001b[33m\u001b[1mError(row=24921): <class 'KeyError'> - ('SBRJ', Timestamp('2022-07-04 07:00:00'))\u001b[0m\n",
      "\u001b[32m2024-05-12 14:14:18.072\u001b[0m | \u001b[33m\u001b[1mWARNING \u001b[0m | \u001b[36mdsc2024.handling\u001b[0m:\u001b[36mparse_metar_as_dataframe\u001b[0m:\u001b[36m46\u001b[0m - \u001b[33m\u001b[1mError(row=25768): <class 'KeyError'> - ('SBRJ', Timestamp('2022-07-05 07:00:00'))\u001b[0m\n",
      "\u001b[32m2024-05-12 14:14:18.077\u001b[0m | \u001b[33m\u001b[1mWARNING \u001b[0m | \u001b[36mdsc2024.handling\u001b[0m:\u001b[36mparse_metar_as_dataframe\u001b[0m:\u001b[36m46\u001b[0m - \u001b[33m\u001b[1mError(row=25774): <class 'KeyError'> - ('SBRJ', Timestamp('2022-07-05 07:00:00'))\u001b[0m\n",
      "\u001b[32m2024-05-12 14:14:18.808\u001b[0m | \u001b[33m\u001b[1mWARNING \u001b[0m | \u001b[36mdsc2024.handling\u001b[0m:\u001b[36mparse_metar_as_dataframe\u001b[0m:\u001b[36m46\u001b[0m - \u001b[33m\u001b[1mError(row=26560): <class 'KeyError'> - ('SBRJ', Timestamp('2022-07-06 07:00:00'))\u001b[0m\n",
      "\u001b[32m2024-05-12 14:14:18.814\u001b[0m | \u001b[33m\u001b[1mWARNING \u001b[0m | \u001b[36mdsc2024.handling\u001b[0m:\u001b[36mparse_metar_as_dataframe\u001b[0m:\u001b[36m46\u001b[0m - \u001b[33m\u001b[1mError(row=26566): <class 'KeyError'> - ('SBRJ', Timestamp('2022-07-06 07:00:00'))\u001b[0m\n",
      "\u001b[32m2024-05-12 14:14:19.551\u001b[0m | \u001b[33m\u001b[1mWARNING \u001b[0m | \u001b[36mdsc2024.handling\u001b[0m:\u001b[36mparse_metar_as_dataframe\u001b[0m:\u001b[36m46\u001b[0m - \u001b[33m\u001b[1mError(row=27363): <class 'KeyError'> - ('SBRJ', Timestamp('2022-07-07 07:00:00'))\u001b[0m\n",
      "\u001b[32m2024-05-12 14:14:19.556\u001b[0m | \u001b[33m\u001b[1mWARNING \u001b[0m | \u001b[36mdsc2024.handling\u001b[0m:\u001b[36mparse_metar_as_dataframe\u001b[0m:\u001b[36m46\u001b[0m - \u001b[33m\u001b[1mError(row=27370): <class 'KeyError'> - ('SBRJ', Timestamp('2022-07-07 07:00:00'))\u001b[0m\n",
      "\u001b[32m2024-05-12 14:14:19.557\u001b[0m | \u001b[33m\u001b[1mWARNING \u001b[0m | \u001b[36mdsc2024.handling\u001b[0m:\u001b[36mparse_metar_as_dataframe\u001b[0m:\u001b[36m46\u001b[0m - \u001b[33m\u001b[1mError(row=27371): <class 'KeyError'> - ('SBRJ', Timestamp('2022-07-07 07:00:00'))\u001b[0m\n",
      "\u001b[32m2024-05-12 14:14:20.339\u001b[0m | \u001b[33m\u001b[1mWARNING \u001b[0m | \u001b[36mdsc2024.handling\u001b[0m:\u001b[36mparse_metar_as_dataframe\u001b[0m:\u001b[36m46\u001b[0m - \u001b[33m\u001b[1mError(row=28209): <class 'KeyError'> - ('SBRJ', Timestamp('2022-07-08 07:00:00'))\u001b[0m\n",
      "\u001b[32m2024-05-12 14:14:20.345\u001b[0m | \u001b[33m\u001b[1mWARNING \u001b[0m | \u001b[36mdsc2024.handling\u001b[0m:\u001b[36mparse_metar_as_dataframe\u001b[0m:\u001b[36m46\u001b[0m - \u001b[33m\u001b[1mError(row=28216): <class 'KeyError'> - ('SBRJ', Timestamp('2022-07-08 07:00:00'))\u001b[0m\n",
      "\u001b[32m2024-05-12 14:14:21.161\u001b[0m | \u001b[33m\u001b[1mWARNING \u001b[0m | \u001b[36mdsc2024.handling\u001b[0m:\u001b[36mparse_metar_as_dataframe\u001b[0m:\u001b[36m46\u001b[0m - \u001b[33m\u001b[1mError(row=29079): <class 'KeyError'> - ('SBRJ', Timestamp('2022-07-09 07:00:00'))\u001b[0m\n",
      "\u001b[32m2024-05-12 14:14:21.163\u001b[0m | \u001b[33m\u001b[1mWARNING \u001b[0m | \u001b[36mdsc2024.handling\u001b[0m:\u001b[36mparse_metar_as_dataframe\u001b[0m:\u001b[36m46\u001b[0m - \u001b[33m\u001b[1mError(row=29080): <class 'KeyError'> - ('SBRJ', Timestamp('2022-07-09 07:00:00'))\u001b[0m\n",
      "\u001b[32m2024-05-12 14:14:21.821\u001b[0m | \u001b[33m\u001b[1mWARNING \u001b[0m | \u001b[36mdsc2024.handling\u001b[0m:\u001b[36mparse_metar_as_dataframe\u001b[0m:\u001b[36m46\u001b[0m - \u001b[33m\u001b[1mError(row=29759): <class 'KeyError'> - ('SBRJ', Timestamp('2022-07-10 07:00:00'))\u001b[0m\n",
      "\u001b[32m2024-05-12 14:14:22.586\u001b[0m | \u001b[33m\u001b[1mWARNING \u001b[0m | \u001b[36mdsc2024.handling\u001b[0m:\u001b[36mparse_metar_as_dataframe\u001b[0m:\u001b[36m46\u001b[0m - \u001b[33m\u001b[1mError(row=30508): <class 'KeyError'> - ('SBRJ', Timestamp('2022-07-11 07:00:00'))\u001b[0m\n",
      "\u001b[32m2024-05-12 14:14:22.591\u001b[0m | \u001b[33m\u001b[1mWARNING \u001b[0m | \u001b[36mdsc2024.handling\u001b[0m:\u001b[36mparse_metar_as_dataframe\u001b[0m:\u001b[36m46\u001b[0m - \u001b[33m\u001b[1mError(row=30511): <class 'KeyError'> - ('SBRJ', Timestamp('2022-07-11 07:00:00'))\u001b[0m\n",
      "\u001b[32m2024-05-12 14:14:23.408\u001b[0m | \u001b[33m\u001b[1mWARNING \u001b[0m | \u001b[36mdsc2024.handling\u001b[0m:\u001b[36mparse_metar_as_dataframe\u001b[0m:\u001b[36m46\u001b[0m - \u001b[33m\u001b[1mError(row=31364): <class 'KeyError'> - ('SBRJ', Timestamp('2022-07-12 07:00:00'))\u001b[0m\n",
      "\u001b[32m2024-05-12 14:14:23.412\u001b[0m | \u001b[33m\u001b[1mWARNING \u001b[0m | \u001b[36mdsc2024.handling\u001b[0m:\u001b[36mparse_metar_as_dataframe\u001b[0m:\u001b[36m46\u001b[0m - \u001b[33m\u001b[1mError(row=31368): <class 'KeyError'> - ('SBRJ', Timestamp('2022-07-12 07:00:00'))\u001b[0m\n",
      "\u001b[32m2024-05-12 14:14:24.208\u001b[0m | \u001b[33m\u001b[1mWARNING \u001b[0m | \u001b[36mdsc2024.handling\u001b[0m:\u001b[36mparse_metar_as_dataframe\u001b[0m:\u001b[36m46\u001b[0m - \u001b[33m\u001b[1mError(row=32182): <class 'KeyError'> - ('SBRJ', Timestamp('2022-07-13 07:00:00'))\u001b[0m\n",
      "\u001b[32m2024-05-12 14:14:24.211\u001b[0m | \u001b[33m\u001b[1mWARNING \u001b[0m | \u001b[36mdsc2024.handling\u001b[0m:\u001b[36mparse_metar_as_dataframe\u001b[0m:\u001b[36m46\u001b[0m - \u001b[33m\u001b[1mError(row=32184): <class 'KeyError'> - ('SBRJ', Timestamp('2022-07-13 07:00:00'))\u001b[0m\n",
      "\u001b[32m2024-05-12 14:14:25.053\u001b[0m | \u001b[33m\u001b[1mWARNING \u001b[0m | \u001b[36mdsc2024.handling\u001b[0m:\u001b[36mparse_metar_as_dataframe\u001b[0m:\u001b[36m46\u001b[0m - \u001b[33m\u001b[1mError(row=33005): <class 'KeyError'> - ('SBRJ', Timestamp('2022-07-14 07:00:00'))\u001b[0m\n",
      "\u001b[32m2024-05-12 14:14:25.055\u001b[0m | \u001b[33m\u001b[1mWARNING \u001b[0m | \u001b[36mdsc2024.handling\u001b[0m:\u001b[36mparse_metar_as_dataframe\u001b[0m:\u001b[36m46\u001b[0m - \u001b[33m\u001b[1mError(row=33007): <class 'KeyError'> - ('SBRJ', Timestamp('2022-07-14 07:00:00'))\u001b[0m\n",
      "\u001b[32m2024-05-12 14:14:25.902\u001b[0m | \u001b[33m\u001b[1mWARNING \u001b[0m | \u001b[36mdsc2024.handling\u001b[0m:\u001b[36mparse_metar_as_dataframe\u001b[0m:\u001b[36m46\u001b[0m - \u001b[33m\u001b[1mError(row=33861): <class 'KeyError'> - ('SBRJ', Timestamp('2022-07-15 07:00:00'))\u001b[0m\n",
      "\u001b[32m2024-05-12 14:14:25.904\u001b[0m | \u001b[33m\u001b[1mWARNING \u001b[0m | \u001b[36mdsc2024.handling\u001b[0m:\u001b[36mparse_metar_as_dataframe\u001b[0m:\u001b[36m46\u001b[0m - \u001b[33m\u001b[1mError(row=33862): <class 'KeyError'> - ('SBRJ', Timestamp('2022-07-15 07:00:00'))\u001b[0m\n",
      "\u001b[32m2024-05-12 14:14:26.714\u001b[0m | \u001b[33m\u001b[1mWARNING \u001b[0m | \u001b[36mdsc2024.handling\u001b[0m:\u001b[36mparse_metar_as_dataframe\u001b[0m:\u001b[36m46\u001b[0m - \u001b[33m\u001b[1mError(row=34733): <class 'KeyError'> - ('SBRJ', Timestamp('2022-07-16 07:00:00'))\u001b[0m\n",
      "\u001b[32m2024-05-12 14:14:26.720\u001b[0m | \u001b[33m\u001b[1mWARNING \u001b[0m | \u001b[36mdsc2024.handling\u001b[0m:\u001b[36mparse_metar_as_dataframe\u001b[0m:\u001b[36m46\u001b[0m - \u001b[33m\u001b[1mError(row=34741): <class 'KeyError'> - ('SBRJ', Timestamp('2022-07-16 07:00:00'))\u001b[0m\n",
      "\u001b[32m2024-05-12 14:14:27.452\u001b[0m | \u001b[33m\u001b[1mWARNING \u001b[0m | \u001b[36mdsc2024.handling\u001b[0m:\u001b[36mparse_metar_as_dataframe\u001b[0m:\u001b[36m46\u001b[0m - \u001b[33m\u001b[1mError(row=35423): <class 'KeyError'> - ('SBRJ', Timestamp('2022-07-17 07:00:00'))\u001b[0m\n",
      "\u001b[32m2024-05-12 14:14:28.171\u001b[0m | \u001b[33m\u001b[1mWARNING \u001b[0m | \u001b[36mdsc2024.handling\u001b[0m:\u001b[36mparse_metar_as_dataframe\u001b[0m:\u001b[36m46\u001b[0m - \u001b[33m\u001b[1mError(row=36184): <class 'KeyError'> - ('SBRJ', Timestamp('2022-07-18 07:00:00'))\u001b[0m\n",
      "\u001b[32m2024-05-12 14:14:28.175\u001b[0m | \u001b[33m\u001b[1mWARNING \u001b[0m | \u001b[36mdsc2024.handling\u001b[0m:\u001b[36mparse_metar_as_dataframe\u001b[0m:\u001b[36m46\u001b[0m - \u001b[33m\u001b[1mError(row=36188): <class 'KeyError'> - ('SBRJ', Timestamp('2022-07-18 07:00:00'))\u001b[0m\n",
      "\u001b[32m2024-05-12 14:14:29.234\u001b[0m | \u001b[33m\u001b[1mWARNING \u001b[0m | \u001b[36mdsc2024.handling\u001b[0m:\u001b[36mparse_metar_as_dataframe\u001b[0m:\u001b[36m46\u001b[0m - \u001b[33m\u001b[1mError(row=37057): <class 'KeyError'> - ('SBRJ', Timestamp('2022-07-19 07:00:00'))\u001b[0m\n",
      "\u001b[32m2024-05-12 14:14:29.238\u001b[0m | \u001b[33m\u001b[1mWARNING \u001b[0m | \u001b[36mdsc2024.handling\u001b[0m:\u001b[36mparse_metar_as_dataframe\u001b[0m:\u001b[36m46\u001b[0m - \u001b[33m\u001b[1mError(row=37061): <class 'KeyError'> - ('SBRJ', Timestamp('2022-07-19 07:00:00'))\u001b[0m\n",
      "\u001b[32m2024-05-12 14:14:29.242\u001b[0m | \u001b[33m\u001b[1mWARNING \u001b[0m | \u001b[36mdsc2024.handling\u001b[0m:\u001b[36mparse_metar_as_dataframe\u001b[0m:\u001b[36m46\u001b[0m - \u001b[33m\u001b[1mError(row=37064): <class 'KeyError'> - ('SBRJ', Timestamp('2022-07-19 07:00:00'))\u001b[0m\n",
      "\u001b[32m2024-05-12 14:14:30.182\u001b[0m | \u001b[33m\u001b[1mWARNING \u001b[0m | \u001b[36mdsc2024.handling\u001b[0m:\u001b[36mparse_metar_as_dataframe\u001b[0m:\u001b[36m46\u001b[0m - \u001b[33m\u001b[1mError(row=37922): <class 'KeyError'> - ('SBRJ', Timestamp('2022-07-20 07:00:00'))\u001b[0m\n",
      "\u001b[32m2024-05-12 14:14:30.184\u001b[0m | \u001b[33m\u001b[1mWARNING \u001b[0m | \u001b[36mdsc2024.handling\u001b[0m:\u001b[36mparse_metar_as_dataframe\u001b[0m:\u001b[36m46\u001b[0m - \u001b[33m\u001b[1mError(row=37923): <class 'KeyError'> - ('SBRJ', Timestamp('2022-07-20 07:00:00'))\u001b[0m\n",
      "\u001b[32m2024-05-12 14:14:31.087\u001b[0m | \u001b[33m\u001b[1mWARNING \u001b[0m | \u001b[36mdsc2024.handling\u001b[0m:\u001b[36mparse_metar_as_dataframe\u001b[0m:\u001b[36m46\u001b[0m - \u001b[33m\u001b[1mError(row=38774): <class 'KeyError'> - ('SBRJ', Timestamp('2022-07-21 07:00:00'))\u001b[0m\n",
      "\u001b[32m2024-05-12 14:14:31.090\u001b[0m | \u001b[33m\u001b[1mWARNING \u001b[0m | \u001b[36mdsc2024.handling\u001b[0m:\u001b[36mparse_metar_as_dataframe\u001b[0m:\u001b[36m46\u001b[0m - \u001b[33m\u001b[1mError(row=38777): <class 'KeyError'> - ('SBRJ', Timestamp('2022-07-21 07:00:00'))\u001b[0m\n",
      "\u001b[32m2024-05-12 14:14:31.095\u001b[0m | \u001b[33m\u001b[1mWARNING \u001b[0m | \u001b[36mdsc2024.handling\u001b[0m:\u001b[36mparse_metar_as_dataframe\u001b[0m:\u001b[36m46\u001b[0m - \u001b[33m\u001b[1mError(row=38781): <class 'KeyError'> - ('SBRJ', Timestamp('2022-07-21 07:00:00'))\u001b[0m\n",
      "\u001b[32m2024-05-12 14:14:32.007\u001b[0m | \u001b[33m\u001b[1mWARNING \u001b[0m | \u001b[36mdsc2024.handling\u001b[0m:\u001b[36mparse_metar_as_dataframe\u001b[0m:\u001b[36m46\u001b[0m - \u001b[33m\u001b[1mError(row=39645): <class 'KeyError'> - ('SBRJ', Timestamp('2022-07-22 07:00:00'))\u001b[0m\n",
      "\u001b[32m2024-05-12 14:14:32.013\u001b[0m | \u001b[33m\u001b[1mWARNING \u001b[0m | \u001b[36mdsc2024.handling\u001b[0m:\u001b[36mparse_metar_as_dataframe\u001b[0m:\u001b[36m46\u001b[0m - \u001b[33m\u001b[1mError(row=39650): <class 'KeyError'> - ('SBRJ', Timestamp('2022-07-22 07:00:00'))\u001b[0m\n",
      "\u001b[32m2024-05-12 14:14:32.920\u001b[0m | \u001b[33m\u001b[1mWARNING \u001b[0m | \u001b[36mdsc2024.handling\u001b[0m:\u001b[36mparse_metar_as_dataframe\u001b[0m:\u001b[36m46\u001b[0m - \u001b[33m\u001b[1mError(row=40532): <class 'KeyError'> - ('SBRJ', Timestamp('2022-07-23 07:00:00'))\u001b[0m\n",
      "\u001b[32m2024-05-12 14:14:32.929\u001b[0m | \u001b[33m\u001b[1mWARNING \u001b[0m | \u001b[36mdsc2024.handling\u001b[0m:\u001b[36mparse_metar_as_dataframe\u001b[0m:\u001b[36m46\u001b[0m - \u001b[33m\u001b[1mError(row=40539): <class 'KeyError'> - ('SBRJ', Timestamp('2022-07-23 07:00:00'))\u001b[0m\n",
      "\u001b[32m2024-05-12 14:14:32.931\u001b[0m | \u001b[33m\u001b[1mWARNING \u001b[0m | \u001b[36mdsc2024.handling\u001b[0m:\u001b[36mparse_metar_as_dataframe\u001b[0m:\u001b[36m46\u001b[0m - \u001b[33m\u001b[1mError(row=40540): <class 'KeyError'> - ('SBRJ', Timestamp('2022-07-23 07:00:00'))\u001b[0m\n",
      "\u001b[32m2024-05-12 14:14:33.655\u001b[0m | \u001b[33m\u001b[1mWARNING \u001b[0m | \u001b[36mdsc2024.handling\u001b[0m:\u001b[36mparse_metar_as_dataframe\u001b[0m:\u001b[36m46\u001b[0m - \u001b[33m\u001b[1mError(row=41223): <class 'KeyError'> - ('SBRJ', Timestamp('2022-07-24 07:00:00'))\u001b[0m\n",
      "\u001b[32m2024-05-12 14:14:34.409\u001b[0m | \u001b[33m\u001b[1mWARNING \u001b[0m | \u001b[36mdsc2024.handling\u001b[0m:\u001b[36mparse_metar_as_dataframe\u001b[0m:\u001b[36m46\u001b[0m - \u001b[33m\u001b[1mError(row=41990): <class 'KeyError'> - ('SBRJ', Timestamp('2022-07-25 07:00:00'))\u001b[0m\n",
      "\u001b[32m2024-05-12 14:14:34.415\u001b[0m | \u001b[33m\u001b[1mWARNING \u001b[0m | \u001b[36mdsc2024.handling\u001b[0m:\u001b[36mparse_metar_as_dataframe\u001b[0m:\u001b[36m46\u001b[0m - \u001b[33m\u001b[1mError(row=41993): <class 'KeyError'> - ('SBRJ', Timestamp('2022-07-25 07:00:00'))\u001b[0m\n",
      "\u001b[32m2024-05-12 14:14:34.425\u001b[0m | \u001b[33m\u001b[1mWARNING \u001b[0m | \u001b[36mdsc2024.handling\u001b[0m:\u001b[36mparse_metar_as_dataframe\u001b[0m:\u001b[36m46\u001b[0m - \u001b[33m\u001b[1mError(row=41999): <class 'KeyError'> - ('SBRJ', Timestamp('2022-07-25 07:00:00'))\u001b[0m\n",
      "\u001b[32m2024-05-12 14:14:35.269\u001b[0m | \u001b[33m\u001b[1mWARNING \u001b[0m | \u001b[36mdsc2024.handling\u001b[0m:\u001b[36mparse_metar_as_dataframe\u001b[0m:\u001b[36m46\u001b[0m - \u001b[33m\u001b[1mError(row=42867): <class 'KeyError'> - ('SBRJ', Timestamp('2022-07-26 07:00:00'))\u001b[0m\n",
      "\u001b[32m2024-05-12 14:14:35.272\u001b[0m | \u001b[33m\u001b[1mWARNING \u001b[0m | \u001b[36mdsc2024.handling\u001b[0m:\u001b[36mparse_metar_as_dataframe\u001b[0m:\u001b[36m46\u001b[0m - \u001b[33m\u001b[1mError(row=42872): <class 'KeyError'> - ('SBRJ', Timestamp('2022-07-26 07:00:00'))\u001b[0m\n",
      "\u001b[32m2024-05-12 14:14:36.101\u001b[0m | \u001b[33m\u001b[1mWARNING \u001b[0m | \u001b[36mdsc2024.handling\u001b[0m:\u001b[36mparse_metar_as_dataframe\u001b[0m:\u001b[36m46\u001b[0m - \u001b[33m\u001b[1mError(row=43716): <class 'KeyError'> - ('SBRJ', Timestamp('2022-07-27 07:00:00'))\u001b[0m\n",
      "\u001b[32m2024-05-12 14:14:36.106\u001b[0m | \u001b[33m\u001b[1mWARNING \u001b[0m | \u001b[36mdsc2024.handling\u001b[0m:\u001b[36mparse_metar_as_dataframe\u001b[0m:\u001b[36m46\u001b[0m - \u001b[33m\u001b[1mError(row=43721): <class 'KeyError'> - ('SBRJ', Timestamp('2022-07-27 07:00:00'))\u001b[0m\n",
      "\u001b[32m2024-05-12 14:14:36.887\u001b[0m | \u001b[33m\u001b[1mWARNING \u001b[0m | \u001b[36mdsc2024.handling\u001b[0m:\u001b[36mparse_metar_as_dataframe\u001b[0m:\u001b[36m46\u001b[0m - \u001b[33m\u001b[1mError(row=44546): <class 'KeyError'> - ('SBRJ', Timestamp('2022-07-28 07:00:00'))\u001b[0m\n",
      "\u001b[32m2024-05-12 14:14:36.889\u001b[0m | \u001b[33m\u001b[1mWARNING \u001b[0m | \u001b[36mdsc2024.handling\u001b[0m:\u001b[36mparse_metar_as_dataframe\u001b[0m:\u001b[36m46\u001b[0m - \u001b[33m\u001b[1mError(row=44548): <class 'KeyError'> - ('SBRJ', Timestamp('2022-07-28 07:00:00'))\u001b[0m\n",
      "\u001b[32m2024-05-12 14:14:37.676\u001b[0m | \u001b[33m\u001b[1mWARNING \u001b[0m | \u001b[36mdsc2024.handling\u001b[0m:\u001b[36mparse_metar_as_dataframe\u001b[0m:\u001b[36m46\u001b[0m - \u001b[33m\u001b[1mError(row=45392): <class 'KeyError'> - ('SBRJ', Timestamp('2022-07-29 07:00:00'))\u001b[0m\n",
      "\u001b[32m2024-05-12 14:14:37.679\u001b[0m | \u001b[33m\u001b[1mWARNING \u001b[0m | \u001b[36mdsc2024.handling\u001b[0m:\u001b[36mparse_metar_as_dataframe\u001b[0m:\u001b[36m46\u001b[0m - \u001b[33m\u001b[1mError(row=45394): <class 'KeyError'> - ('SBRJ', Timestamp('2022-07-29 07:00:00'))\u001b[0m\n",
      "\u001b[32m2024-05-12 14:14:38.531\u001b[0m | \u001b[33m\u001b[1mWARNING \u001b[0m | \u001b[36mdsc2024.handling\u001b[0m:\u001b[36mparse_metar_as_dataframe\u001b[0m:\u001b[36m46\u001b[0m - \u001b[33m\u001b[1mError(row=46256): <class 'KeyError'> - ('SBRJ', Timestamp('2022-07-30 07:00:00'))\u001b[0m\n",
      "\u001b[32m2024-05-12 14:14:38.533\u001b[0m | \u001b[33m\u001b[1mWARNING \u001b[0m | \u001b[36mdsc2024.handling\u001b[0m:\u001b[36mparse_metar_as_dataframe\u001b[0m:\u001b[36m46\u001b[0m - \u001b[33m\u001b[1mError(row=46258): <class 'KeyError'> - ('SBRJ', Timestamp('2022-07-30 07:00:00'))\u001b[0m\n",
      "\u001b[32m2024-05-12 14:14:39.238\u001b[0m | \u001b[33m\u001b[1mWARNING \u001b[0m | \u001b[36mdsc2024.handling\u001b[0m:\u001b[36mparse_metar_as_dataframe\u001b[0m:\u001b[36m46\u001b[0m - \u001b[33m\u001b[1mError(row=46938): <class 'KeyError'> - ('SBRJ', Timestamp('2022-07-31 07:00:00'))\u001b[0m\n",
      "\u001b[32m2024-05-12 14:14:40.009\u001b[0m | \u001b[33m\u001b[1mWARNING \u001b[0m | \u001b[36mdsc2024.handling\u001b[0m:\u001b[36mparse_metar_as_dataframe\u001b[0m:\u001b[36m46\u001b[0m - \u001b[33m\u001b[1mError(row=47673): <class 'KeyError'> - ('SBRJ', Timestamp('2022-08-01 07:00:00'))\u001b[0m\n",
      "\u001b[32m2024-05-12 14:14:40.016\u001b[0m | \u001b[33m\u001b[1mWARNING \u001b[0m | \u001b[36mdsc2024.handling\u001b[0m:\u001b[36mparse_metar_as_dataframe\u001b[0m:\u001b[36m46\u001b[0m - \u001b[33m\u001b[1mError(row=47681): <class 'KeyError'> - ('SBRJ', Timestamp('2022-08-01 07:00:00'))\u001b[0m\n",
      "\u001b[32m2024-05-12 14:14:40.021\u001b[0m | \u001b[33m\u001b[1mWARNING \u001b[0m | \u001b[36mdsc2024.handling\u001b[0m:\u001b[36mparse_metar_as_dataframe\u001b[0m:\u001b[36m46\u001b[0m - \u001b[33m\u001b[1mError(row=47684): <class 'KeyError'> - ('SBRJ', Timestamp('2022-08-01 07:00:00'))\u001b[0m\n",
      "\u001b[32m2024-05-12 14:14:40.023\u001b[0m | \u001b[33m\u001b[1mWARNING \u001b[0m | \u001b[36mdsc2024.handling\u001b[0m:\u001b[36mparse_metar_as_dataframe\u001b[0m:\u001b[36m46\u001b[0m - \u001b[33m\u001b[1mError(row=47685): <class 'KeyError'> - ('SBRJ', Timestamp('2022-08-01 07:00:00'))\u001b[0m\n"
     ]
    }
   ],
   "source": [
    "%%time\n",
    "\n",
    "if real_test:\n",
    "    sampling = None\n",
    "df = datasets.get_train_dataset(sampling=sampling)"
   ]
  },
  {
   "cell_type": "code",
   "execution_count": null,
   "id": "40021f50-6e28-4413-ad7b-970534032204",
   "metadata": {},
   "outputs": [],
   "source": [
    "df.info()"
   ]
  },
  {
   "cell_type": "code",
   "execution_count": null,
   "id": "cf7bb9e5-949f-43f6-ac3d-f601df113352",
   "metadata": {},
   "outputs": [],
   "source": [
    "# drop columns with only has null values\n",
    "df.dropna(axis=1, how=\"all\", inplace=True)\n",
    "df.info()"
   ]
  },
  {
   "cell_type": "code",
   "execution_count": null,
   "id": "78ea9f50-1ece-4b88-a68c-9edd86d29d03",
   "metadata": {},
   "outputs": [],
   "source": [
    "df = features.create_timedelta_features(df)"
   ]
  },
  {
   "cell_type": "code",
   "execution_count": null,
   "id": "dd5b9867-7883-4841-8aea-9ee8d909b71f",
   "metadata": {},
   "outputs": [],
   "source": [
    "# drop non-feature datetime / image columns (to be out of baseline for feature engineering)\n",
    "datetime_columns = [\"hora_ref\", \"metaf_date_time\", \"metar_date_time\", \"url_img_satelite\"]\n",
    "df.drop(columns=datetime_columns, inplace=True)\n",
    "df.info()"
   ]
  },
  {
   "cell_type": "code",
   "execution_count": null,
   "id": "612874a3-8c09-4795-bc3c-29faefd09e7e",
   "metadata": {},
   "outputs": [],
   "source": [
    "# bad predictor or more than >25% missing values\n",
    "useless_features = [\n",
    "    \"metar_current_wx3\",\n",
    "    # \"metar_skyc4\",\n",
    "    # \"metar_skylev4\",\n",
    "    \"metaf_current_wx2\",\n",
    "    # \"metaf_skylev1\",\n",
    "    # \"metaf_skylev2\",\n",
    "    # \"metar_skylev3\",\n",
    "    # \"metar_skylev4\",\n",
    "    # \"metar_wind_gust\",\n",
    "    # \"metar_skyc3\",\n",
    "    # \"metar_skylev3\",\n",
    "    \"hora_do_voo\"\n",
    "]\n",
    "def drop_useless_features(features):\n",
    "    features.drop(columns=useless_features, inplace=True)\n",
    "    return features\n",
    "\n",
    "# drop_useless_features(df)"
   ]
  },
  {
   "cell_type": "code",
   "execution_count": null,
   "id": "9e3ac591-d2e7-4535-a8c6-3a9ecac23834",
   "metadata": {},
   "outputs": [],
   "source": [
    "X = df.drop(\"espera\", axis=1)\n",
    "y = df.espera.astype(int)"
   ]
  },
  {
   "cell_type": "code",
   "execution_count": null,
   "id": "5396774a-f44f-409a-a427-8300919ac71a",
   "metadata": {},
   "outputs": [],
   "source": [
    "# probability of having espera P(espera=1) = 1.74%, extremely unbanlaced \n",
    "y.value_counts() / y.count()"
   ]
  },
  {
   "cell_type": "code",
   "execution_count": null,
   "id": "1cb7aa65-ce73-4d68-8a86-2157bfc890f7",
   "metadata": {},
   "outputs": [],
   "source": [
    "cat_features = X.select_dtypes(include=['object']).columns.tolist()\n",
    "embedding_features = [\"vector\"]\n",
    "[cat_features.remove(x) for x in embedding_features]\n",
    "cat_features,embedding_features"
   ]
  },
  {
   "cell_type": "markdown",
   "id": "fd478ac2-f9b2-4dea-a87b-4b10cee7d42b",
   "metadata": {},
   "source": [
    "# Data Imputation"
   ]
  },
  {
   "cell_type": "code",
   "execution_count": null,
   "id": "48b400b0-a460-4e32-8ebe-d1d7e8905261",
   "metadata": {},
   "outputs": [],
   "source": [
    "# Fill categorical features with unknown class (a new category)\n",
    "# numerical features will be filled with min-value catboost default strategy\n",
    "cat_features_fill_map = {f: \"UNKNOWN\" for f in cat_features}\n",
    "X.fillna(cat_features_fill_map, inplace=True)"
   ]
  },
  {
   "cell_type": "code",
   "execution_count": null,
   "id": "f91ffa50-6bb0-4d14-8794-54de22bf1c76",
   "metadata": {},
   "outputs": [],
   "source": [
    "X.info()"
   ]
  },
  {
   "cell_type": "markdown",
   "id": "b1df3787-23ae-4843-a74d-6fe76a423d15",
   "metadata": {},
   "source": [
    "# Data Split Train/Test"
   ]
  },
  {
   "cell_type": "code",
   "execution_count": null,
   "id": "ab3b3ef0-2159-4e0e-bdfc-52a69bfbb75b",
   "metadata": {},
   "outputs": [],
   "source": [
    "from sklearn.model_selection import train_test_split\n",
    "random_state = 42\n",
    "X_base_train, X_test, y_base_train, y_test = train_test_split(X, y, test_size=0.20, random_state=random_state)\n",
    "X_train, X_eval, y_train, y_eval = train_test_split(X_base_train, y_base_train, test_size=1/8, random_state=random_state)\n",
    "\n",
    "# real test -> to submit to kaggle, replace X_test from unlabelled samples and resplit train/eval dataset\n",
    "# WARNING: in this mode, metrics report and confusion matrix are not reliable, since it trained with all data. So they are not show.\n",
    "if real_test:\n",
    "    # TODO: move this data handling to be by default at datasets.get_public_dataset()\n",
    "\n",
    "    # data handling\n",
    "    df_real_test = datasets.get_test_dataset()\n",
    "    back = df_real_test.metaf_current_wx3.copy()\n",
    "    df_real_test.dropna(axis=1, how=\"all\", inplace=True)\n",
    "    df_real_test['metaf_current_wx3'] = back\n",
    "    df_reat_test = features.create_timedelta_features(df_real_test)\n",
    "    df_real_test.drop(columns=datetime_columns, inplace=True)\n",
    "    drop_useless_features(df_real_test)\n",
    "    X_test = df_real_test\n",
    "    X_test.fillna(cat_features_fill_map, inplace=True)\n",
    "\n",
    "    # split\n",
    "    _, X_eval, _, y_eval = train_test_split(X, y, test_size=0.20, random_state=random_state)\n",
    "X_test.info()"
   ]
  },
  {
   "cell_type": "markdown",
   "id": "1619bd6a-a4c0-486b-81a9-84275a4757b3",
   "metadata": {},
   "source": [
    "# Add graph Features"
   ]
  },
  {
   "cell_type": "code",
   "execution_count": null,
   "id": "01a39991-3d75-4246-851d-10621486ee7d",
   "metadata": {},
   "outputs": [],
   "source": [
    "from dsc2024 import features\n",
    "X_train = features.generate_graph_features(X_train)\n",
    "X_test = features.graph_features_testdata(X_test, X_train)\n",
    "X_eval = features.graph_features_testdata(X_eval, X_train)"
   ]
  },
  {
   "cell_type": "code",
   "execution_count": null,
   "id": "1ae696a6-4f53-4042-bea9-27653a36d3fd",
   "metadata": {},
   "outputs": [],
   "source": [
    "# Imputation by mean\n",
    "\n",
    "# from sklearn.impute import SimpleImputer\n",
    "\n",
    "# numeric_columns = X_train.select_dtypes(include='number').columns\n",
    "# imputer = SimpleImputer(strategy=\"most_frequent\").fit(X_train[numeric_columns])\n",
    "# datasets_to_imput = [X_train, X_test, X_eval]\n",
    "# for dataset in datasets_to_imput:\n",
    "#     dataset_subset_imputed = imputer.transform(dataset[numeric_columns])\n",
    "#     dataset[numeric_columns] = pd.DataFrame(dataset_subset_imputed, index=dataset.index, columns=numeric_columns)\n"
   ]
  },
  {
   "cell_type": "code",
   "execution_count": null,
   "id": "810c1ba6-53ad-46fd-93a2-09ef368b8912",
   "metadata": {},
   "outputs": [],
   "source": [
    "X_train.describe().T"
   ]
  },
  {
   "cell_type": "code",
   "execution_count": null,
   "id": "20367eec-1776-4dd7-ad65-26165ace8bdc",
   "metadata": {},
   "outputs": [],
   "source": [
    "# computer class weights\n",
    "from sklearn.utils.class_weight import compute_class_weight\n",
    " \n",
    "classes = np.unique(y_train)\n",
    "class_weights = compute_class_weight(class_weight='balanced', classes=classes, y=y_train)\n",
    "class_0 = class_weights[0]\n",
    "class_weights = class_weights / class_0"
   ]
  },
  {
   "cell_type": "markdown",
   "id": "57e4f32b-d856-4f77-b368-447f56be010d",
   "metadata": {},
   "source": [
    "# Training model"
   ]
  },
  {
   "cell_type": "code",
   "execution_count": null,
   "id": "03f53c3a-7e15-4c1c-b6fd-d13550ac74ab",
   "metadata": {},
   "outputs": [],
   "source": [
    "%%time\n",
    "from catboost import CatBoostClassifier, Pool\n",
    "\n",
    "train_data = Pool(\n",
    "   data=X_train,\n",
    "   label=y_train,\n",
    "   cat_features=cat_features,\n",
    "   embedding_features=embedding_features\n",
    ")\n",
    "\n",
    "# metric = \"TotalF1:average=Macro;use_weights=False\"\n",
    "eval_metric = \"Logloss\"\n",
    "metric = \"F1:use_weights=false\"\n",
    "# eval_metric = metric # this may cause overfit with early_stopping_rounds enabled\n",
    "model = CatBoostClassifier(\n",
    "    iterations=3000,  \n",
    "    early_stopping_rounds=70,  # Number of iterations to wait for improvement\n",
    "    eval_metric=eval_metric,  # Metric to use for early stopping\n",
    "    cat_features=cat_features,\n",
    "    embedding_features=embedding_features,\n",
    "    custom_loss=[metric],\n",
    "    verbose=50,  # Print information every n iterations,\n",
    "    random_seed=random_state,\n",
    "    bagging_temperature=10,\n",
    "    use_best_model=True,\n",
    "    depth=16, # Maximum number of trees depth (you can adjust this)\n",
    "    learning_rate=0.004,\n",
    "    subsample=0.8,\n",
    "    # class_weights=class_weights, # class weights, because dataset is unbalanced\n",
    "    auto_class_weights=\"Balanced\",\n",
    ")\n",
    "\n",
    "\n",
    "model.fit(train_data, eval_set=(X_eval, y_eval), plot=True)"
   ]
  },
  {
   "cell_type": "code",
   "execution_count": null,
   "id": "0b914a55-df75-4a7b-9c5b-6ae802af3bdc",
   "metadata": {},
   "outputs": [],
   "source": [
    "y_pred = model.predict(X_test[model.feature_names_])"
   ]
  },
  {
   "cell_type": "markdown",
   "id": "8876204a-7730-44c8-bc47-f907b2ae31ce",
   "metadata": {},
   "source": [
    "# Model evaluation"
   ]
  },
  {
   "cell_type": "code",
   "execution_count": null,
   "id": "d2250f12-fef3-4a37-b114-3fd0e82817fd",
   "metadata": {},
   "outputs": [],
   "source": [
    "import matplotlib.pyplot as plt\n",
    "from sklearn.metrics import classification_report, confusion_matrix, ConfusionMatrixDisplay\n",
    "from sklearn.metrics import f1_score\n",
    "\n",
    "if not real_test:\n",
    "    report = classification_report(y_test, y_pred)\n",
    "    f1_score_class1 = f1_score(y_test, y_pred, average=None)\n",
    "    print(f\"Classification Report: F1[class=1] = {round(f1_score_class1[1], 3)}\")\n",
    "    print(report)\n",
    "    \n",
    "    # Print confusion matrix\n",
    "    cm = confusion_matrix(y_test, y_pred)\n",
    "    print(\"Confusion Matrix:\")\n",
    "    print(cm)\n",
    "    disp = ConfusionMatrixDisplay(confusion_matrix=cm)\n",
    "    disp.plot(cmap=plt.cm.Blues)\n",
    "    plt.show()"
   ]
  },
  {
   "cell_type": "code",
   "execution_count": null,
   "id": "28886d50-56ec-41c3-832e-ec9776334464",
   "metadata": {},
   "outputs": [],
   "source": [
    "# plot feature importance\n",
    "feature_importance = model.get_feature_importance(type='FeatureImportance')\n",
    "feature_names = model.feature_names_\n",
    "sorted_idx = feature_importance.argsort()\n",
    "\n",
    "plt.figure(figsize=(8, 12))\n",
    "plt.barh(range(len(sorted_idx)), feature_importance[sorted_idx], align='center')\n",
    "plt.yticks(range(len(sorted_idx)), [feature_names[i] for i in sorted_idx])\n",
    "plt.xlabel('Feature Importance')\n",
    "plt.title('CatBoost Feature Importance')\n",
    "plt.show()"
   ]
  },
  {
   "cell_type": "markdown",
   "id": "f4116263-dd9d-4698-8c66-70b0f259e294",
   "metadata": {},
   "source": [
    "# Save prediction\n"
   ]
  },
  {
   "cell_type": "code",
   "execution_count": null,
   "id": "693742d0-ddb5-414d-83a1-47bdd883f750",
   "metadata": {},
   "outputs": [],
   "source": [
    "if real_test:\n",
    "    y_pred_series = pd.Series(y_pred, index=X_test.index, name=\"espera\")\n",
    "    y_pred_series.to_csv(datasets.datasets_dir / \"catboost_submit.csv\")\n",
    "    y_pred_series.count()"
   ]
  }
 ],
 "metadata": {
  "kernelspec": {
   "display_name": "Python 3 (ipykernel)",
   "language": "python",
   "name": "python3"
  },
  "language_info": {
   "codemirror_mode": {
    "name": "ipython",
    "version": 3
   },
   "file_extension": ".py",
   "mimetype": "text/x-python",
   "name": "python",
   "nbconvert_exporter": "python",
   "pygments_lexer": "ipython3",
   "version": "3.10.12"
  }
 },
 "nbformat": 4,
 "nbformat_minor": 5
}
